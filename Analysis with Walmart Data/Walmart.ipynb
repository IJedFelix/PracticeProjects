{
 "cells": [
  {
   "attachments": {
    "d24d93f7-4b78-4127-a7dd-969bd840604f.jpg": {
     "image/jpeg": "[encoded data removed]"
    }
   },
   "cell_type": "markdown",
   "metadata": {},
   "source": [
    "![New_Walmart_Logo.svg-e1519222902338.jpg](attachment:d24d93f7-4b78-4127-a7dd-969bd840604f.jpg)"
   ]
  },
  {
   "cell_type": "markdown",
   "metadata": {},
   "source": [
    "## **Retail Analysis with Walmart Data**"
   ]
  },
  {
   "cell_type": "markdown",
   "metadata": {},
   "source": [
    "#### DESCRIPTION\n",
    "\n",
    "One of the leading retail stores in the US, Walmart, would like to predict the sales and demand accurately. There are certain events and holidays which impact sales on each day. There are sales data available for 45 stores of Walmart. The business is facing a challenge due to unforeseen demands and runs out of stock some times, due to the inappropriate machine learning algorithm. An ideal ML algorithm will predict demand accurately and ingest factors like economic conditions including CPI, Unemployment Index, etc.\n",
    "\n",
    "Walmart runs several promotional markdown events throughout the year. These markdowns precede prominent holidays, the four largest of all, which are the Super Bowl, Labour Day, Thanksgiving, and Christmas. The weeks including these holidays are weighted five times higher in the evaluation than non-holiday weeks. Part of the challenge presented by this competition is modeling the effects of markdowns on these holiday weeks in the absence of complete/ideal historical data. Historical sales data for 45 Walmart stores located in different regions are available.\n",
    "\n",
    "#### Dataset Description\n",
    "\n",
    "This is the historical data that covers sales from 2010-02-05 to 2012-11-01, in the file Walmart_Store_sales. Within this file you will find the following fields:\n",
    "\n",
    "Store - the store number\n",
    "\n",
    "Date - the week of sales\n",
    "\n",
    "Weekly_Sales -  sales for the given store\n",
    "\n",
    "Holiday_Flag - whether the week is a special holiday week 1 – Holiday week 0 – Non-holiday week\n",
    "\n",
    "Temperature - Temperature on the day of sale\n",
    "\n",
    "Fuel_Price - Cost of fuel in the region\n",
    "\n",
    "CPI – Prevailing consumer price index\n",
    "\n",
    "Unemployment - Prevailing unemployment rate\n",
    "\n",
    "#### Holiday Events\n",
    "\n",
    "Super Bowl: 12-Feb-10, 11-Feb-11, 10-Feb-12, 8-Feb-13\n",
    "\n",
    "Labour Day: 10-Sep-10, 9-Sep-11, 7-Sep-12, 6-Sep-13\n",
    "\n",
    "Thanksgiving: 26-Nov-10, 25-Nov-11, 23-Nov-12, 29-Nov-13\n",
    "\n",
    "Christmas: 31-Dec-10, 30-Dec-11, 28-Dec-12, 27-Dec-13"
   ]
  },
  {
   "cell_type": "markdown",
   "metadata": {},
   "source": [
    "------------------------------------------------"
   ]
  },
  {
   "cell_type": "markdown",
   "metadata": {},
   "source": [
    "## Importing libraries"
   ]
  },
  {
   "cell_type": "code",
   "execution_count": 129,
   "metadata": {},
   "outputs": [],
   "source": [
    "import pandas as pd\n",
    "import numpy as np\n",
    "import sklearn\n",
    "\n",
    "import matplotlib.pyplot as plt\n",
    "%matplotlib inline \n",
    "import seaborn as sns\n",
    "\n",
    "import statistics\n",
    "import datetime\n",
    "import math\n",
    "\n",
    "from scipy.stats import iqr\n",
    "\n",
    "import warnings\n",
    "warnings.filterwarnings(\"ignore\")"
   ]
  },
  {
   "cell_type": "markdown",
   "metadata": {},
   "source": [
    "-------------------------------------"
   ]
  },
  {
   "cell_type": "markdown",
   "metadata": {},
   "source": [
    "## Importing Data"
   ]
  },
  {
   "cell_type": "code",
   "execution_count": 130,
   "metadata": {},
   "outputs": [],
   "source": [
    "Walmart= pd.read_csv(\"Walmart_Store_sales.csv\")"
   ]
  },
  {
   "cell_type": "markdown",
   "metadata": {},
   "source": [
    "______________________________________"
   ]
  },
  {
   "cell_type": "markdown",
   "metadata": {},
   "source": [
    "## Data Exploration"
   ]
  },
  {
   "cell_type": "code",
   "execution_count": 131,
   "metadata": {},
   "outputs": [
    {
     "data": {
      "text/html": [
       "<div>\n",
       "<style scoped>\n",
       "    .dataframe tbody tr th:only-of-type {\n",
       "        vertical-align: middle;\n",
       "    }\n",
       "\n",
       "    .dataframe tbody tr th {\n",
       "        vertical-align: top;\n",
       "    }\n",
       "\n",
       "    .dataframe thead th {\n",
       "        text-align: right;\n",
       "    }\n",
       "</style>\n",
       "<table border=\"1\" class=\"dataframe\">\n",
       "  <thead>\n",
       "    <tr style=\"text-align: right;\">\n",
       "      <th></th>\n",
       "      <th>Store</th>\n",
       "      <th>Date</th>\n",
       "      <th>Weekly_Sales</th>\n",
       "      <th>Holiday_Flag</th>\n",
       "      <th>Temperature</th>\n",
       "      <th>Fuel_Price</th>\n",
       "      <th>CPI</th>\n",
       "      <th>Unemployment</th>\n",
       "    </tr>\n",
       "  </thead>\n",
       "  <tbody>\n",
       "    <tr>\n",
       "      <th>0</th>\n",
       "      <td>1</td>\n",
       "      <td>05-02-2010</td>\n",
       "      <td>1643690.90</td>\n",
       "      <td>0</td>\n",
       "      <td>42.31</td>\n",
       "      <td>2.572</td>\n",
       "      <td>211.096358</td>\n",
       "      <td>8.106</td>\n",
       "    </tr>\n",
       "    <tr>\n",
       "      <th>1</th>\n",
       "      <td>1</td>\n",
       "      <td>12-02-2010</td>\n",
       "      <td>1641957.44</td>\n",
       "      <td>1</td>\n",
       "      <td>38.51</td>\n",
       "      <td>2.548</td>\n",
       "      <td>211.242170</td>\n",
       "      <td>8.106</td>\n",
       "    </tr>\n",
       "    <tr>\n",
       "      <th>2</th>\n",
       "      <td>1</td>\n",
       "      <td>19-02-2010</td>\n",
       "      <td>1611968.17</td>\n",
       "      <td>0</td>\n",
       "      <td>39.93</td>\n",
       "      <td>2.514</td>\n",
       "      <td>211.289143</td>\n",
       "      <td>8.106</td>\n",
       "    </tr>\n",
       "    <tr>\n",
       "      <th>3</th>\n",
       "      <td>1</td>\n",
       "      <td>26-02-2010</td>\n",
       "      <td>1409727.59</td>\n",
       "      <td>0</td>\n",
       "      <td>46.63</td>\n",
       "      <td>2.561</td>\n",
       "      <td>211.319643</td>\n",
       "      <td>8.106</td>\n",
       "    </tr>\n",
       "    <tr>\n",
       "      <th>4</th>\n",
       "      <td>1</td>\n",
       "      <td>05-03-2010</td>\n",
       "      <td>1554806.68</td>\n",
       "      <td>0</td>\n",
       "      <td>46.50</td>\n",
       "      <td>2.625</td>\n",
       "      <td>211.350143</td>\n",
       "      <td>8.106</td>\n",
       "    </tr>\n",
       "  </tbody>\n",
       "</table>\n",
       "</div>"
      ],
      "text/plain": [
       "   Store        Date  Weekly_Sales  Holiday_Flag  Temperature  Fuel_Price  \\\n",
       "0      1  05-02-2010    1643690.90             0        42.31       2.572   \n",
       "1      1  12-02-2010    1641957.44             1        38.51       2.548   \n",
       "2      1  19-02-2010    1611968.17             0        39.93       2.514   \n",
       "3      1  26-02-2010    1409727.59             0        46.63       2.561   \n",
       "4      1  05-03-2010    1554806.68             0        46.50       2.625   \n",
       "\n",
       "          CPI  Unemployment  \n",
       "0  211.096358         8.106  \n",
       "1  211.242170         8.106  \n",
       "2  211.289143         8.106  \n",
       "3  211.319643         8.106  \n",
       "4  211.350143         8.106  "
      ]
     },
     "metadata": {},
     "output_type": "display_data"
    },
    {
     "data": {
      "text/html": [
       "<div>\n",
       "<style scoped>\n",
       "    .dataframe tbody tr th:only-of-type {\n",
       "        vertical-align: middle;\n",
       "    }\n",
       "\n",
       "    .dataframe tbody tr th {\n",
       "        vertical-align: top;\n",
       "    }\n",
       "\n",
       "    .dataframe thead th {\n",
       "        text-align: right;\n",
       "    }\n",
       "</style>\n",
       "<table border=\"1\" class=\"dataframe\">\n",
       "  <thead>\n",
       "    <tr style=\"text-align: right;\">\n",
       "      <th></th>\n",
       "      <th>Store</th>\n",
       "      <th>Date</th>\n",
       "      <th>Weekly_Sales</th>\n",
       "      <th>Holiday_Flag</th>\n",
       "      <th>Temperature</th>\n",
       "      <th>Fuel_Price</th>\n",
       "      <th>CPI</th>\n",
       "      <th>Unemployment</th>\n",
       "    </tr>\n",
       "  </thead>\n",
       "  <tbody>\n",
       "    <tr>\n",
       "      <th>6430</th>\n",
       "      <td>45</td>\n",
       "      <td>28-09-2012</td>\n",
       "      <td>713173.95</td>\n",
       "      <td>0</td>\n",
       "      <td>64.88</td>\n",
       "      <td>3.997</td>\n",
       "      <td>192.013558</td>\n",
       "      <td>8.684</td>\n",
       "    </tr>\n",
       "    <tr>\n",
       "      <th>6431</th>\n",
       "      <td>45</td>\n",
       "      <td>05-10-2012</td>\n",
       "      <td>733455.07</td>\n",
       "      <td>0</td>\n",
       "      <td>64.89</td>\n",
       "      <td>3.985</td>\n",
       "      <td>192.170412</td>\n",
       "      <td>8.667</td>\n",
       "    </tr>\n",
       "    <tr>\n",
       "      <th>6432</th>\n",
       "      <td>45</td>\n",
       "      <td>12-10-2012</td>\n",
       "      <td>734464.36</td>\n",
       "      <td>0</td>\n",
       "      <td>54.47</td>\n",
       "      <td>4.000</td>\n",
       "      <td>192.327265</td>\n",
       "      <td>8.667</td>\n",
       "    </tr>\n",
       "    <tr>\n",
       "      <th>6433</th>\n",
       "      <td>45</td>\n",
       "      <td>19-10-2012</td>\n",
       "      <td>718125.53</td>\n",
       "      <td>0</td>\n",
       "      <td>56.47</td>\n",
       "      <td>3.969</td>\n",
       "      <td>192.330854</td>\n",
       "      <td>8.667</td>\n",
       "    </tr>\n",
       "    <tr>\n",
       "      <th>6434</th>\n",
       "      <td>45</td>\n",
       "      <td>26-10-2012</td>\n",
       "      <td>760281.43</td>\n",
       "      <td>0</td>\n",
       "      <td>58.85</td>\n",
       "      <td>3.882</td>\n",
       "      <td>192.308899</td>\n",
       "      <td>8.667</td>\n",
       "    </tr>\n",
       "  </tbody>\n",
       "</table>\n",
       "</div>"
      ],
      "text/plain": [
       "      Store        Date  Weekly_Sales  Holiday_Flag  Temperature  Fuel_Price  \\\n",
       "6430     45  28-09-2012     713173.95             0        64.88       3.997   \n",
       "6431     45  05-10-2012     733455.07             0        64.89       3.985   \n",
       "6432     45  12-10-2012     734464.36             0        54.47       4.000   \n",
       "6433     45  19-10-2012     718125.53             0        56.47       3.969   \n",
       "6434     45  26-10-2012     760281.43             0        58.85       3.882   \n",
       "\n",
       "             CPI  Unemployment  \n",
       "6430  192.013558         8.684  \n",
       "6431  192.170412         8.667  \n",
       "6432  192.327265         8.667  \n",
       "6433  192.330854         8.667  \n",
       "6434  192.308899         8.667  "
      ]
     },
     "metadata": {},
     "output_type": "display_data"
    },
    {
     "data": {
      "text/html": [
       "<div>\n",
       "<style scoped>\n",
       "    .dataframe tbody tr th:only-of-type {\n",
       "        vertical-align: middle;\n",
       "    }\n",
       "\n",
       "    .dataframe tbody tr th {\n",
       "        vertical-align: top;\n",
       "    }\n",
       "\n",
       "    .dataframe thead th {\n",
       "        text-align: right;\n",
       "    }\n",
       "</style>\n",
       "<table border=\"1\" class=\"dataframe\">\n",
       "  <thead>\n",
       "    <tr style=\"text-align: right;\">\n",
       "      <th></th>\n",
       "      <th>Store</th>\n",
       "      <th>Date</th>\n",
       "      <th>Weekly_Sales</th>\n",
       "      <th>Holiday_Flag</th>\n",
       "      <th>Temperature</th>\n",
       "      <th>Fuel_Price</th>\n",
       "      <th>CPI</th>\n",
       "      <th>Unemployment</th>\n",
       "    </tr>\n",
       "  </thead>\n",
       "  <tbody>\n",
       "    <tr>\n",
       "      <th>4573</th>\n",
       "      <td>32</td>\n",
       "      <td>12-10-2012</td>\n",
       "      <td>1176681.31</td>\n",
       "      <td>0</td>\n",
       "      <td>43.49</td>\n",
       "      <td>3.760</td>\n",
       "      <td>199.053937</td>\n",
       "      <td>7.557</td>\n",
       "    </tr>\n",
       "    <tr>\n",
       "      <th>953</th>\n",
       "      <td>7</td>\n",
       "      <td>02-12-2011</td>\n",
       "      <td>591907.88</td>\n",
       "      <td>0</td>\n",
       "      <td>20.38</td>\n",
       "      <td>3.378</td>\n",
       "      <td>195.822329</td>\n",
       "      <td>8.513</td>\n",
       "    </tr>\n",
       "    <tr>\n",
       "      <th>5597</th>\n",
       "      <td>40</td>\n",
       "      <td>25-06-2010</td>\n",
       "      <td>940405.03</td>\n",
       "      <td>0</td>\n",
       "      <td>69.72</td>\n",
       "      <td>2.810</td>\n",
       "      <td>132.497600</td>\n",
       "      <td>5.435</td>\n",
       "    </tr>\n",
       "    <tr>\n",
       "      <th>5308</th>\n",
       "      <td>38</td>\n",
       "      <td>04-06-2010</td>\n",
       "      <td>376184.88</td>\n",
       "      <td>0</td>\n",
       "      <td>81.39</td>\n",
       "      <td>2.941</td>\n",
       "      <td>126.136065</td>\n",
       "      <td>14.099</td>\n",
       "    </tr>\n",
       "    <tr>\n",
       "      <th>2123</th>\n",
       "      <td>15</td>\n",
       "      <td>01-06-2012</td>\n",
       "      <td>663971.26</td>\n",
       "      <td>0</td>\n",
       "      <td>67.61</td>\n",
       "      <td>3.915</td>\n",
       "      <td>138.113806</td>\n",
       "      <td>8.150</td>\n",
       "    </tr>\n",
       "    <tr>\n",
       "      <th>5021</th>\n",
       "      <td>36</td>\n",
       "      <td>28-05-2010</td>\n",
       "      <td>447050.42</td>\n",
       "      <td>0</td>\n",
       "      <td>80.87</td>\n",
       "      <td>2.716</td>\n",
       "      <td>209.666051</td>\n",
       "      <td>8.464</td>\n",
       "    </tr>\n",
       "    <tr>\n",
       "      <th>173</th>\n",
       "      <td>2</td>\n",
       "      <td>03-09-2010</td>\n",
       "      <td>1904608.09</td>\n",
       "      <td>0</td>\n",
       "      <td>81.83</td>\n",
       "      <td>2.577</td>\n",
       "      <td>211.188693</td>\n",
       "      <td>8.099</td>\n",
       "    </tr>\n",
       "    <tr>\n",
       "      <th>3921</th>\n",
       "      <td>28</td>\n",
       "      <td>01-04-2011</td>\n",
       "      <td>1336838.41</td>\n",
       "      <td>0</td>\n",
       "      <td>63.63</td>\n",
       "      <td>3.772</td>\n",
       "      <td>128.719935</td>\n",
       "      <td>13.736</td>\n",
       "    </tr>\n",
       "    <tr>\n",
       "      <th>3367</th>\n",
       "      <td>24</td>\n",
       "      <td>05-08-2011</td>\n",
       "      <td>1417616.81</td>\n",
       "      <td>0</td>\n",
       "      <td>74.64</td>\n",
       "      <td>4.020</td>\n",
       "      <td>136.054032</td>\n",
       "      <td>8.358</td>\n",
       "    </tr>\n",
       "    <tr>\n",
       "      <th>5430</th>\n",
       "      <td>38</td>\n",
       "      <td>05-10-2012</td>\n",
       "      <td>458479.01</td>\n",
       "      <td>0</td>\n",
       "      <td>81.61</td>\n",
       "      <td>3.966</td>\n",
       "      <td>131.075667</td>\n",
       "      <td>10.199</td>\n",
       "    </tr>\n",
       "    <tr>\n",
       "      <th>4097</th>\n",
       "      <td>29</td>\n",
       "      <td>18-11-2011</td>\n",
       "      <td>504601.29</td>\n",
       "      <td>0</td>\n",
       "      <td>50.62</td>\n",
       "      <td>3.571</td>\n",
       "      <td>136.466667</td>\n",
       "      <td>9.357</td>\n",
       "    </tr>\n",
       "    <tr>\n",
       "      <th>3322</th>\n",
       "      <td>24</td>\n",
       "      <td>24-09-2010</td>\n",
       "      <td>1169413.27</td>\n",
       "      <td>0</td>\n",
       "      <td>64.30</td>\n",
       "      <td>2.837</td>\n",
       "      <td>132.761933</td>\n",
       "      <td>8.117</td>\n",
       "    </tr>\n",
       "    <tr>\n",
       "      <th>5419</th>\n",
       "      <td>38</td>\n",
       "      <td>20-07-2012</td>\n",
       "      <td>441683.74</td>\n",
       "      <td>0</td>\n",
       "      <td>85.53</td>\n",
       "      <td>3.726</td>\n",
       "      <td>130.701290</td>\n",
       "      <td>10.926</td>\n",
       "    </tr>\n",
       "    <tr>\n",
       "      <th>1358</th>\n",
       "      <td>10</td>\n",
       "      <td>17-06-2011</td>\n",
       "      <td>1817934.76</td>\n",
       "      <td>0</td>\n",
       "      <td>87.96</td>\n",
       "      <td>3.935</td>\n",
       "      <td>129.043200</td>\n",
       "      <td>8.494</td>\n",
       "    </tr>\n",
       "    <tr>\n",
       "      <th>2886</th>\n",
       "      <td>21</td>\n",
       "      <td>06-08-2010</td>\n",
       "      <td>739279.19</td>\n",
       "      <td>0</td>\n",
       "      <td>90.30</td>\n",
       "      <td>2.627</td>\n",
       "      <td>211.160805</td>\n",
       "      <td>8.099</td>\n",
       "    </tr>\n",
       "  </tbody>\n",
       "</table>\n",
       "</div>"
      ],
      "text/plain": [
       "      Store        Date  Weekly_Sales  Holiday_Flag  Temperature  Fuel_Price  \\\n",
       "4573     32  12-10-2012    1176681.31             0        43.49       3.760   \n",
       "953       7  02-12-2011     591907.88             0        20.38       3.378   \n",
       "5597     40  25-06-2010     940405.03             0        69.72       2.810   \n",
       "5308     38  04-06-2010     376184.88             0        81.39       2.941   \n",
       "2123     15  01-06-2012     663971.26             0        67.61       3.915   \n",
       "5021     36  28-05-2010     447050.42             0        80.87       2.716   \n",
       "173       2  03-09-2010    1904608.09             0        81.83       2.577   \n",
       "3921     28  01-04-2011    1336838.41             0        63.63       3.772   \n",
       "3367     24  05-08-2011    1417616.81             0        74.64       4.020   \n",
       "5430     38  05-10-2012     458479.01             0        81.61       3.966   \n",
       "4097     29  18-11-2011     504601.29             0        50.62       3.571   \n",
       "3322     24  24-09-2010    1169413.27             0        64.30       2.837   \n",
       "5419     38  20-07-2012     441683.74             0        85.53       3.726   \n",
       "1358     10  17-06-2011    1817934.76             0        87.96       3.935   \n",
       "2886     21  06-08-2010     739279.19             0        90.30       2.627   \n",
       "\n",
       "             CPI  Unemployment  \n",
       "4573  199.053937         7.557  \n",
       "953   195.822329         8.513  \n",
       "5597  132.497600         5.435  \n",
       "5308  126.136065        14.099  \n",
       "2123  138.113806         8.150  \n",
       "5021  209.666051         8.464  \n",
       "173   211.188693         8.099  \n",
       "3921  128.719935        13.736  \n",
       "3367  136.054032         8.358  \n",
       "5430  131.075667        10.199  \n",
       "4097  136.466667         9.357  \n",
       "3322  132.761933         8.117  \n",
       "5419  130.701290        10.926  \n",
       "1358  129.043200         8.494  \n",
       "2886  211.160805         8.099  "
      ]
     },
     "metadata": {},
     "output_type": "display_data"
    }
   ],
   "source": [
    "display(Walmart.head(5))\n",
    "display(Walmart.tail(5))\n",
    "display(Walmart.sample(15))"
   ]
  },
  {
   "cell_type": "code",
   "execution_count": 132,
   "metadata": {},
   "outputs": [
    {
     "data": {
      "text/plain": [
       "51480"
      ]
     },
     "metadata": {},
     "output_type": "display_data"
    },
    {
     "data": {
      "text/plain": [
       "(6435, 8)"
      ]
     },
     "metadata": {},
     "output_type": "display_data"
    },
    {
     "data": {
      "text/html": [
       "<div>\n",
       "<style scoped>\n",
       "    .dataframe tbody tr th:only-of-type {\n",
       "        vertical-align: middle;\n",
       "    }\n",
       "\n",
       "    .dataframe tbody tr th {\n",
       "        vertical-align: top;\n",
       "    }\n",
       "\n",
       "    .dataframe thead th {\n",
       "        text-align: right;\n",
       "    }\n",
       "</style>\n",
       "<table border=\"1\" class=\"dataframe\">\n",
       "  <thead>\n",
       "    <tr style=\"text-align: right;\">\n",
       "      <th></th>\n",
       "      <th>Store</th>\n",
       "      <th>Weekly_Sales</th>\n",
       "      <th>Holiday_Flag</th>\n",
       "      <th>Temperature</th>\n",
       "      <th>Fuel_Price</th>\n",
       "      <th>CPI</th>\n",
       "      <th>Unemployment</th>\n",
       "    </tr>\n",
       "  </thead>\n",
       "  <tbody>\n",
       "    <tr>\n",
       "      <th>count</th>\n",
       "      <td>6435.000000</td>\n",
       "      <td>6.435000e+03</td>\n",
       "      <td>6435.000000</td>\n",
       "      <td>6435.000000</td>\n",
       "      <td>6435.000000</td>\n",
       "      <td>6435.000000</td>\n",
       "      <td>6435.000000</td>\n",
       "    </tr>\n",
       "    <tr>\n",
       "      <th>mean</th>\n",
       "      <td>23.000000</td>\n",
       "      <td>1.046965e+06</td>\n",
       "      <td>0.069930</td>\n",
       "      <td>60.663782</td>\n",
       "      <td>3.358607</td>\n",
       "      <td>171.578394</td>\n",
       "      <td>7.999151</td>\n",
       "    </tr>\n",
       "    <tr>\n",
       "      <th>std</th>\n",
       "      <td>12.988182</td>\n",
       "      <td>5.643666e+05</td>\n",
       "      <td>0.255049</td>\n",
       "      <td>18.444933</td>\n",
       "      <td>0.459020</td>\n",
       "      <td>39.356712</td>\n",
       "      <td>1.875885</td>\n",
       "    </tr>\n",
       "    <tr>\n",
       "      <th>min</th>\n",
       "      <td>1.000000</td>\n",
       "      <td>2.099862e+05</td>\n",
       "      <td>0.000000</td>\n",
       "      <td>-2.060000</td>\n",
       "      <td>2.472000</td>\n",
       "      <td>126.064000</td>\n",
       "      <td>3.879000</td>\n",
       "    </tr>\n",
       "    <tr>\n",
       "      <th>25%</th>\n",
       "      <td>12.000000</td>\n",
       "      <td>5.533501e+05</td>\n",
       "      <td>0.000000</td>\n",
       "      <td>47.460000</td>\n",
       "      <td>2.933000</td>\n",
       "      <td>131.735000</td>\n",
       "      <td>6.891000</td>\n",
       "    </tr>\n",
       "    <tr>\n",
       "      <th>50%</th>\n",
       "      <td>23.000000</td>\n",
       "      <td>9.607460e+05</td>\n",
       "      <td>0.000000</td>\n",
       "      <td>62.670000</td>\n",
       "      <td>3.445000</td>\n",
       "      <td>182.616521</td>\n",
       "      <td>7.874000</td>\n",
       "    </tr>\n",
       "    <tr>\n",
       "      <th>75%</th>\n",
       "      <td>34.000000</td>\n",
       "      <td>1.420159e+06</td>\n",
       "      <td>0.000000</td>\n",
       "      <td>74.940000</td>\n",
       "      <td>3.735000</td>\n",
       "      <td>212.743293</td>\n",
       "      <td>8.622000</td>\n",
       "    </tr>\n",
       "    <tr>\n",
       "      <th>max</th>\n",
       "      <td>45.000000</td>\n",
       "      <td>3.818686e+06</td>\n",
       "      <td>1.000000</td>\n",
       "      <td>100.140000</td>\n",
       "      <td>4.468000</td>\n",
       "      <td>227.232807</td>\n",
       "      <td>14.313000</td>\n",
       "    </tr>\n",
       "  </tbody>\n",
       "</table>\n",
       "</div>"
      ],
      "text/plain": [
       "             Store  Weekly_Sales  Holiday_Flag  Temperature   Fuel_Price  \\\n",
       "count  6435.000000  6.435000e+03   6435.000000  6435.000000  6435.000000   \n",
       "mean     23.000000  1.046965e+06      0.069930    60.663782     3.358607   \n",
       "std      12.988182  5.643666e+05      0.255049    18.444933     0.459020   \n",
       "min       1.000000  2.099862e+05      0.000000    -2.060000     2.472000   \n",
       "25%      12.000000  5.533501e+05      0.000000    47.460000     2.933000   \n",
       "50%      23.000000  9.607460e+05      0.000000    62.670000     3.445000   \n",
       "75%      34.000000  1.420159e+06      0.000000    74.940000     3.735000   \n",
       "max      45.000000  3.818686e+06      1.000000   100.140000     4.468000   \n",
       "\n",
       "               CPI  Unemployment  \n",
       "count  6435.000000   6435.000000  \n",
       "mean    171.578394      7.999151  \n",
       "std      39.356712      1.875885  \n",
       "min     126.064000      3.879000  \n",
       "25%     131.735000      6.891000  \n",
       "50%     182.616521      7.874000  \n",
       "75%     212.743293      8.622000  \n",
       "max     227.232807     14.313000  "
      ]
     },
     "metadata": {},
     "output_type": "display_data"
    },
    {
     "name": "stdout",
     "output_type": "stream",
     "text": [
      "<class 'pandas.core.frame.DataFrame'>\n",
      "RangeIndex: 6435 entries, 0 to 6434\n",
      "Data columns (total 8 columns):\n",
      " #   Column        Non-Null Count  Dtype  \n",
      "---  ------        --------------  -----  \n",
      " 0   Store         6435 non-null   int64  \n",
      " 1   Date          6435 non-null   object \n",
      " 2   Weekly_Sales  6435 non-null   float64\n",
      " 3   Holiday_Flag  6435 non-null   int64  \n",
      " 4   Temperature   6435 non-null   float64\n",
      " 5   Fuel_Price    6435 non-null   float64\n",
      " 6   CPI           6435 non-null   float64\n",
      " 7   Unemployment  6435 non-null   float64\n",
      "dtypes: float64(5), int64(2), object(1)\n",
      "memory usage: 402.3+ KB\n"
     ]
    },
    {
     "data": {
      "text/plain": [
       "None"
      ]
     },
     "metadata": {},
     "output_type": "display_data"
    }
   ],
   "source": [
    "display(Walmart.size)\n",
    "display(Walmart.shape)\n",
    "display(Walmart.describe())\n",
    "display(Walmart.info())"
   ]
  },
  {
   "cell_type": "code",
   "execution_count": 133,
   "metadata": {},
   "outputs": [
    {
     "data": {
      "text/plain": [
       "Store           0\n",
       "Date            0\n",
       "Weekly_Sales    0\n",
       "Holiday_Flag    0\n",
       "Temperature     0\n",
       "Fuel_Price      0\n",
       "CPI             0\n",
       "Unemployment    0\n",
       "dtype: int64"
      ]
     },
     "execution_count": 133,
     "metadata": {},
     "output_type": "execute_result"
    }
   ],
   "source": [
    "# checking for missing values\n",
    "\n",
    "Walmart.isna().sum()"
   ]
  },
  {
   "cell_type": "code",
   "execution_count": 134,
   "metadata": {},
   "outputs": [
    {
     "data": {
      "text/plain": [
       "array([ 1,  2,  3,  4,  5,  6,  7,  8,  9, 10, 11, 12, 13, 14, 15, 16, 17,\n",
       "       18, 19, 20, 21, 22, 23, 24, 25, 26, 27, 28, 29, 30, 31, 32, 33, 34,\n",
       "       35, 36, 37, 38, 39, 40, 41, 42, 43, 44, 45], dtype=int64)"
      ]
     },
     "execution_count": 134,
     "metadata": {},
     "output_type": "execute_result"
    }
   ],
   "source": [
    "Walmart[\"Store\"].unique()\n",
    "\n",
    "# There are 45 stores which contribute to this Data set"
   ]
  },
  {
   "cell_type": "code",
   "execution_count": 135,
   "metadata": {},
   "outputs": [],
   "source": [
    "# Converting Date column to Datetime \n",
    "\n",
    "Walmart[\"Date\"] = pd.to_datetime(Walmart[\"Date\"], format = \"%d-%m-%Y\")"
   ]
  },
  {
   "cell_type": "code",
   "execution_count": 136,
   "metadata": {},
   "outputs": [],
   "source": [
    "# creating a new column with only month\n",
    "\n",
    "Walmart[\"Month\"]= Walmart.Date.apply(lambda x: x.month)"
   ]
  },
  {
   "cell_type": "code",
   "execution_count": 137,
   "metadata": {},
   "outputs": [],
   "source": [
    "#creating a new column with only year\n",
    "\n",
    "Walmart[\"Year\"]=Walmart.Date.apply(lambda x: x.year)"
   ]
  },
  {
   "cell_type": "code",
   "execution_count": 138,
   "metadata": {},
   "outputs": [
    {
     "data": {
      "text/html": [
       "<div>\n",
       "<style scoped>\n",
       "    .dataframe tbody tr th:only-of-type {\n",
       "        vertical-align: middle;\n",
       "    }\n",
       "\n",
       "    .dataframe tbody tr th {\n",
       "        vertical-align: top;\n",
       "    }\n",
       "\n",
       "    .dataframe thead th {\n",
       "        text-align: right;\n",
       "    }\n",
       "</style>\n",
       "<table border=\"1\" class=\"dataframe\">\n",
       "  <thead>\n",
       "    <tr style=\"text-align: right;\">\n",
       "      <th></th>\n",
       "      <th>Store</th>\n",
       "      <th>Date</th>\n",
       "      <th>Weekly_Sales</th>\n",
       "      <th>Holiday_Flag</th>\n",
       "      <th>Temperature</th>\n",
       "      <th>Fuel_Price</th>\n",
       "      <th>CPI</th>\n",
       "      <th>Unemployment</th>\n",
       "      <th>Month</th>\n",
       "      <th>Year</th>\n",
       "    </tr>\n",
       "  </thead>\n",
       "  <tbody>\n",
       "    <tr>\n",
       "      <th>0</th>\n",
       "      <td>1</td>\n",
       "      <td>2010-02-05</td>\n",
       "      <td>1643690.90</td>\n",
       "      <td>0</td>\n",
       "      <td>42.31</td>\n",
       "      <td>2.572</td>\n",
       "      <td>211.096358</td>\n",
       "      <td>8.106</td>\n",
       "      <td>2</td>\n",
       "      <td>2010</td>\n",
       "    </tr>\n",
       "    <tr>\n",
       "      <th>1</th>\n",
       "      <td>1</td>\n",
       "      <td>2010-02-12</td>\n",
       "      <td>1641957.44</td>\n",
       "      <td>1</td>\n",
       "      <td>38.51</td>\n",
       "      <td>2.548</td>\n",
       "      <td>211.242170</td>\n",
       "      <td>8.106</td>\n",
       "      <td>2</td>\n",
       "      <td>2010</td>\n",
       "    </tr>\n",
       "    <tr>\n",
       "      <th>2</th>\n",
       "      <td>1</td>\n",
       "      <td>2010-02-19</td>\n",
       "      <td>1611968.17</td>\n",
       "      <td>0</td>\n",
       "      <td>39.93</td>\n",
       "      <td>2.514</td>\n",
       "      <td>211.289143</td>\n",
       "      <td>8.106</td>\n",
       "      <td>2</td>\n",
       "      <td>2010</td>\n",
       "    </tr>\n",
       "    <tr>\n",
       "      <th>3</th>\n",
       "      <td>1</td>\n",
       "      <td>2010-02-26</td>\n",
       "      <td>1409727.59</td>\n",
       "      <td>0</td>\n",
       "      <td>46.63</td>\n",
       "      <td>2.561</td>\n",
       "      <td>211.319643</td>\n",
       "      <td>8.106</td>\n",
       "      <td>2</td>\n",
       "      <td>2010</td>\n",
       "    </tr>\n",
       "    <tr>\n",
       "      <th>4</th>\n",
       "      <td>1</td>\n",
       "      <td>2010-03-05</td>\n",
       "      <td>1554806.68</td>\n",
       "      <td>0</td>\n",
       "      <td>46.50</td>\n",
       "      <td>2.625</td>\n",
       "      <td>211.350143</td>\n",
       "      <td>8.106</td>\n",
       "      <td>3</td>\n",
       "      <td>2010</td>\n",
       "    </tr>\n",
       "  </tbody>\n",
       "</table>\n",
       "</div>"
      ],
      "text/plain": [
       "   Store       Date  Weekly_Sales  Holiday_Flag  Temperature  Fuel_Price  \\\n",
       "0      1 2010-02-05    1643690.90             0        42.31       2.572   \n",
       "1      1 2010-02-12    1641957.44             1        38.51       2.548   \n",
       "2      1 2010-02-19    1611968.17             0        39.93       2.514   \n",
       "3      1 2010-02-26    1409727.59             0        46.63       2.561   \n",
       "4      1 2010-03-05    1554806.68             0        46.50       2.625   \n",
       "\n",
       "          CPI  Unemployment  Month  Year  \n",
       "0  211.096358         8.106      2  2010  \n",
       "1  211.242170         8.106      2  2010  \n",
       "2  211.289143         8.106      2  2010  \n",
       "3  211.319643         8.106      2  2010  \n",
       "4  211.350143         8.106      3  2010  "
      ]
     },
     "execution_count": 138,
     "metadata": {},
     "output_type": "execute_result"
    }
   ],
   "source": [
    "Walmart.head(5)"
   ]
  },
  {
   "cell_type": "code",
   "execution_count": 139,
   "metadata": {},
   "outputs": [],
   "source": [
    "#creating new column \"Quarter\" representing 4 Quarters of a year.\n",
    "Walmart[\"Quarter\"] = Walmart.Month.apply(lambda x: math.ceil(x/3.0))"
   ]
  },
  {
   "cell_type": "code",
   "execution_count": 140,
   "metadata": {},
   "outputs": [
    {
     "data": {
      "text/html": [
       "<div>\n",
       "<style scoped>\n",
       "    .dataframe tbody tr th:only-of-type {\n",
       "        vertical-align: middle;\n",
       "    }\n",
       "\n",
       "    .dataframe tbody tr th {\n",
       "        vertical-align: top;\n",
       "    }\n",
       "\n",
       "    .dataframe thead th {\n",
       "        text-align: right;\n",
       "    }\n",
       "</style>\n",
       "<table border=\"1\" class=\"dataframe\">\n",
       "  <thead>\n",
       "    <tr style=\"text-align: right;\">\n",
       "      <th></th>\n",
       "      <th>Store</th>\n",
       "      <th>Date</th>\n",
       "      <th>Weekly_Sales</th>\n",
       "      <th>Holiday_Flag</th>\n",
       "      <th>Temperature</th>\n",
       "      <th>Fuel_Price</th>\n",
       "      <th>CPI</th>\n",
       "      <th>Unemployment</th>\n",
       "      <th>Month</th>\n",
       "      <th>Year</th>\n",
       "      <th>Quarter</th>\n",
       "    </tr>\n",
       "  </thead>\n",
       "  <tbody>\n",
       "    <tr>\n",
       "      <th>6269</th>\n",
       "      <td>44</td>\n",
       "      <td>2012-05-25</td>\n",
       "      <td>343268.29</td>\n",
       "      <td>0</td>\n",
       "      <td>62.39</td>\n",
       "      <td>3.801</td>\n",
       "      <td>131.028774</td>\n",
       "      <td>5.621</td>\n",
       "      <td>5</td>\n",
       "      <td>2012</td>\n",
       "      <td>2</td>\n",
       "    </tr>\n",
       "    <tr>\n",
       "      <th>951</th>\n",
       "      <td>7</td>\n",
       "      <td>2011-11-18</td>\n",
       "      <td>539826.56</td>\n",
       "      <td>0</td>\n",
       "      <td>29.53</td>\n",
       "      <td>3.479</td>\n",
       "      <td>195.718471</td>\n",
       "      <td>8.513</td>\n",
       "      <td>11</td>\n",
       "      <td>2011</td>\n",
       "      <td>4</td>\n",
       "    </tr>\n",
       "    <tr>\n",
       "      <th>2766</th>\n",
       "      <td>20</td>\n",
       "      <td>2011-01-14</td>\n",
       "      <td>1884345.01</td>\n",
       "      <td>0</td>\n",
       "      <td>20.39</td>\n",
       "      <td>3.205</td>\n",
       "      <td>204.702604</td>\n",
       "      <td>7.343</td>\n",
       "      <td>1</td>\n",
       "      <td>2011</td>\n",
       "      <td>1</td>\n",
       "    </tr>\n",
       "    <tr>\n",
       "      <th>5893</th>\n",
       "      <td>42</td>\n",
       "      <td>2010-09-03</td>\n",
       "      <td>524658.06</td>\n",
       "      <td>0</td>\n",
       "      <td>83.80</td>\n",
       "      <td>3.087</td>\n",
       "      <td>126.101935</td>\n",
       "      <td>9.199</td>\n",
       "      <td>9</td>\n",
       "      <td>2010</td>\n",
       "      <td>3</td>\n",
       "    </tr>\n",
       "    <tr>\n",
       "      <th>2279</th>\n",
       "      <td>16</td>\n",
       "      <td>2012-08-31</td>\n",
       "      <td>551837.31</td>\n",
       "      <td>0</td>\n",
       "      <td>64.19</td>\n",
       "      <td>3.556</td>\n",
       "      <td>198.096734</td>\n",
       "      <td>6.061</td>\n",
       "      <td>8</td>\n",
       "      <td>2012</td>\n",
       "      <td>3</td>\n",
       "    </tr>\n",
       "    <tr>\n",
       "      <th>4451</th>\n",
       "      <td>32</td>\n",
       "      <td>2010-06-11</td>\n",
       "      <td>1192074.09</td>\n",
       "      <td>0</td>\n",
       "      <td>70.86</td>\n",
       "      <td>2.684</td>\n",
       "      <td>189.400073</td>\n",
       "      <td>8.963</td>\n",
       "      <td>6</td>\n",
       "      <td>2010</td>\n",
       "      <td>2</td>\n",
       "    </tr>\n",
       "    <tr>\n",
       "      <th>5587</th>\n",
       "      <td>40</td>\n",
       "      <td>2010-04-16</td>\n",
       "      <td>882636.96</td>\n",
       "      <td>0</td>\n",
       "      <td>43.30</td>\n",
       "      <td>2.885</td>\n",
       "      <td>131.980900</td>\n",
       "      <td>5.435</td>\n",
       "      <td>4</td>\n",
       "      <td>2010</td>\n",
       "      <td>2</td>\n",
       "    </tr>\n",
       "    <tr>\n",
       "      <th>1353</th>\n",
       "      <td>10</td>\n",
       "      <td>2011-05-13</td>\n",
       "      <td>1712995.44</td>\n",
       "      <td>0</td>\n",
       "      <td>74.04</td>\n",
       "      <td>4.202</td>\n",
       "      <td>129.089000</td>\n",
       "      <td>8.494</td>\n",
       "      <td>5</td>\n",
       "      <td>2011</td>\n",
       "      <td>2</td>\n",
       "    </tr>\n",
       "    <tr>\n",
       "      <th>3945</th>\n",
       "      <td>28</td>\n",
       "      <td>2011-09-16</td>\n",
       "      <td>1159212.10</td>\n",
       "      <td>0</td>\n",
       "      <td>76.36</td>\n",
       "      <td>3.918</td>\n",
       "      <td>129.430600</td>\n",
       "      <td>13.503</td>\n",
       "      <td>9</td>\n",
       "      <td>2011</td>\n",
       "      <td>3</td>\n",
       "    </tr>\n",
       "    <tr>\n",
       "      <th>5102</th>\n",
       "      <td>36</td>\n",
       "      <td>2011-12-16</td>\n",
       "      <td>341503.92</td>\n",
       "      <td>0</td>\n",
       "      <td>58.31</td>\n",
       "      <td>3.133</td>\n",
       "      <td>217.878134</td>\n",
       "      <td>7.716</td>\n",
       "      <td>12</td>\n",
       "      <td>2011</td>\n",
       "      <td>4</td>\n",
       "    </tr>\n",
       "  </tbody>\n",
       "</table>\n",
       "</div>"
      ],
      "text/plain": [
       "      Store       Date  Weekly_Sales  Holiday_Flag  Temperature  Fuel_Price  \\\n",
       "6269     44 2012-05-25     343268.29             0        62.39       3.801   \n",
       "951       7 2011-11-18     539826.56             0        29.53       3.479   \n",
       "2766     20 2011-01-14    1884345.01             0        20.39       3.205   \n",
       "5893     42 2010-09-03     524658.06             0        83.80       3.087   \n",
       "2279     16 2012-08-31     551837.31             0        64.19       3.556   \n",
       "4451     32 2010-06-11    1192074.09             0        70.86       2.684   \n",
       "5587     40 2010-04-16     882636.96             0        43.30       2.885   \n",
       "1353     10 2011-05-13    1712995.44             0        74.04       4.202   \n",
       "3945     28 2011-09-16    1159212.10             0        76.36       3.918   \n",
       "5102     36 2011-12-16     341503.92             0        58.31       3.133   \n",
       "\n",
       "             CPI  Unemployment  Month  Year  Quarter  \n",
       "6269  131.028774         5.621      5  2012        2  \n",
       "951   195.718471         8.513     11  2011        4  \n",
       "2766  204.702604         7.343      1  2011        1  \n",
       "5893  126.101935         9.199      9  2010        3  \n",
       "2279  198.096734         6.061      8  2012        3  \n",
       "4451  189.400073         8.963      6  2010        2  \n",
       "5587  131.980900         5.435      4  2010        2  \n",
       "1353  129.089000         8.494      5  2011        2  \n",
       "3945  129.430600        13.503      9  2011        3  \n",
       "5102  217.878134         7.716     12  2011        4  "
      ]
     },
     "execution_count": 140,
     "metadata": {},
     "output_type": "execute_result"
    }
   ],
   "source": [
    "Walmart.sample(10)"
   ]
  },
  {
   "cell_type": "code",
   "execution_count": 141,
   "metadata": {},
   "outputs": [
    {
     "data": {
      "text/plain": [
       "<AxesSubplot:xlabel='Weekly_Sales'>"
      ]
     },
     "execution_count": 141,
     "metadata": {},
     "output_type": "execute_result"
    },
    {
     "data": {
      "image/png": "[encoded data removed]",
      "text/plain": [
       "<Figure size 432x288 with 1 Axes>"
      ]
     },
     "metadata": {
      "needs_background": "light"
     },
     "output_type": "display_data"
    }
   ],
   "source": [
    "sns.boxplot(Walmart.Weekly_Sales)"
   ]
  },
  {
   "cell_type": "code",
   "execution_count": 142,
   "metadata": {},
   "outputs": [
    {
     "data": {
      "text/plain": [
       "<AxesSubplot:xlabel='Weekly_Sales', ylabel='Density'>"
      ]
     },
     "execution_count": 142,
     "metadata": {},
     "output_type": "execute_result"
    },
    {
     "data": {
      "image/png": "[encoded data removed]",
      "text/plain": [
       "<Figure size 432x288 with 1 Axes>"
      ]
     },
     "metadata": {
      "needs_background": "light"
     },
     "output_type": "display_data"
    }
   ],
   "source": [
    "sns.distplot(Walmart.Weekly_Sales)"
   ]
  },
  {
   "cell_type": "code",
   "execution_count": 143,
   "metadata": {},
   "outputs": [
    {
     "data": {
      "text/plain": [
       "<AxesSubplot:xlabel='Temperature', ylabel='Density'>"
      ]
     },
     "execution_count": 143,
     "metadata": {},
     "output_type": "execute_result"
    },
    {
     "data": {
      "image/png": "[encoded data removed]",
      "text/plain": [
       "<Figure size 432x288 with 1 Axes>"
      ]
     },
     "metadata": {
      "needs_background": "light"
     },
     "output_type": "display_data"
    }
   ],
   "source": [
    "sns.distplot(Walmart.Temperature)"
   ]
  },
  {
   "cell_type": "code",
   "execution_count": 144,
   "metadata": {},
   "outputs": [
    {
     "data": {
      "text/plain": [
       "<AxesSubplot:xlabel='CPI', ylabel='Density'>"
      ]
     },
     "execution_count": 144,
     "metadata": {},
     "output_type": "execute_result"
    },
    {
     "data": {
      "image/png": "[encoded data removed]",
      "text/plain": [
       "<Figure size 432x288 with 1 Axes>"
      ]
     },
     "metadata": {
      "needs_background": "light"
     },
     "output_type": "display_data"
    }
   ],
   "source": [
    "sns.distplot(Walmart.CPI)"
   ]
  },
  {
   "cell_type": "code",
   "execution_count": 145,
   "metadata": {},
   "outputs": [
    {
     "data": {
      "text/plain": [
       "<AxesSubplot:xlabel='Fuel_Price', ylabel='Density'>"
      ]
     },
     "execution_count": 145,
     "metadata": {},
     "output_type": "execute_result"
    },
    {
     "data": {
      "image/png": "[encoded data removed]",
      "text/plain": [
       "<Figure size 432x288 with 1 Axes>"
      ]
     },
     "metadata": {
      "needs_background": "light"
     },
     "output_type": "display_data"
    }
   ],
   "source": [
    "sns.distplot(Walmart.Fuel_Price)"
   ]
  },
  {
   "cell_type": "markdown",
   "metadata": {},
   "source": [
    "# *Temperature vs Weekly sales*"
   ]
  },
  {
   "cell_type": "code",
   "execution_count": 146,
   "metadata": {},
   "outputs": [
    {
     "data": {
      "text/plain": [
       "<AxesSubplot:xlabel='Temperature'>"
      ]
     },
     "execution_count": 146,
     "metadata": {},
     "output_type": "execute_result"
    },
    {
     "data": {
      "image/png": "[encoded data removed]",
      "text/plain": [
       "<Figure size 432x288 with 1 Axes>"
      ]
     },
     "metadata": {
      "needs_background": "light"
     },
     "output_type": "display_data"
    }
   ],
   "source": [
    "sns.boxplot(Walmart.Temperature)"
   ]
  },
  {
   "cell_type": "markdown",
   "metadata": {},
   "source": [
    "Looks like we have some cold outliers"
   ]
  },
  {
   "cell_type": "code",
   "execution_count": 147,
   "metadata": {},
   "outputs": [
    {
     "data": {
      "text/plain": [
       "<AxesSubplot:xlabel='Temperature', ylabel='Weekly_Sales'>"
      ]
     },
     "execution_count": 147,
     "metadata": {},
     "output_type": "execute_result"
    },
    {
     "data": {
      "image/png": "[encoded data removed]",
      "text/plain": [
       "<Figure size 432x288 with 1 Axes>"
      ]
     },
     "metadata": {
      "needs_background": "light"
     },
     "output_type": "display_data"
    }
   ],
   "source": [
    "sns.scatterplot(Walmart.Temperature,Walmart.Weekly_Sales)"
   ]
  },
  {
   "cell_type": "code",
   "execution_count": 148,
   "metadata": {},
   "outputs": [
    {
     "name": "stdout",
     "output_type": "stream",
     "text": [
      "Mean of the Temperatures :  60.66378243978229\n",
      "Median of the Temperature :  62.67\n",
      "Maximum Temperature :  100.14\n",
      "Minimum Temperature : -2.06\n"
     ]
    },
    {
     "data": {
      "text/html": [
       "<div>\n",
       "<style scoped>\n",
       "    .dataframe tbody tr th:only-of-type {\n",
       "        vertical-align: middle;\n",
       "    }\n",
       "\n",
       "    .dataframe tbody tr th {\n",
       "        vertical-align: top;\n",
       "    }\n",
       "\n",
       "    .dataframe thead th {\n",
       "        text-align: right;\n",
       "    }\n",
       "</style>\n",
       "<table border=\"1\" class=\"dataframe\">\n",
       "  <thead>\n",
       "    <tr style=\"text-align: right;\">\n",
       "      <th></th>\n",
       "      <th>Temperature</th>\n",
       "      <th>Weekly_Sales</th>\n",
       "    </tr>\n",
       "  </thead>\n",
       "  <tbody>\n",
       "    <tr>\n",
       "      <th>Temperature</th>\n",
       "      <td>1.00000</td>\n",
       "      <td>-0.06381</td>\n",
       "    </tr>\n",
       "    <tr>\n",
       "      <th>Weekly_Sales</th>\n",
       "      <td>-0.06381</td>\n",
       "      <td>1.00000</td>\n",
       "    </tr>\n",
       "  </tbody>\n",
       "</table>\n",
       "</div>"
      ],
      "text/plain": [
       "              Temperature  Weekly_Sales\n",
       "Temperature       1.00000      -0.06381\n",
       "Weekly_Sales     -0.06381       1.00000"
      ]
     },
     "execution_count": 148,
     "metadata": {},
     "output_type": "execute_result"
    }
   ],
   "source": [
    "meanT = Walmart.Temperature.mean()\n",
    "medianT = Walmart.Temperature.median()\n",
    "maxT =Walmart.Temperature.max()\n",
    "minT = Walmart.Temperature.min()\n",
    "\n",
    "print(\"Mean of the Temperatures : \",meanT)\n",
    "print(\"Median of the Temperature : \",medianT)\n",
    "print(\"Maximum Temperature : \",maxT)\n",
    "print(\"Minimum Temperature :\",minT)\n",
    "\n",
    "Tempandsales = Walmart[[\"Temperature\",\"Weekly_Sales\"]]\n",
    "Tempandsales.corr()"
   ]
  },
  {
   "cell_type": "code",
   "execution_count": 149,
   "metadata": {},
   "outputs": [
    {
     "name": "stdout",
     "output_type": "stream",
     "text": [
      "      Store  Temperature  Weekly_Sales  Quarter  Month\n",
      "910       7        -2.06     558027.77        1      2\n",
      "959       7         7.46     593875.46        1      1\n",
      "2336     17         6.23    1083071.14        1      1\n",
      "3575     26         9.55    1034119.21        1      2\n",
      "3626     26         5.54     817485.14        1      1\n",
      "5628     40         9.51     775910.43        1      1\n"
     ]
    }
   ],
   "source": [
    "coldtemp = Walmart.loc[Walmart.Temperature <= 10,[\"Store\",\"Temperature\",\"Weekly_Sales\",\"Quarter\",\"Month\"]]\n",
    "print(coldtemp)"
   ]
  },
  {
   "cell_type": "code",
   "execution_count": 150,
   "metadata": {},
   "outputs": [
    {
     "name": "stdout",
     "output_type": "stream",
     "text": [
      "      Store  Temperature  Weekly_Sales  Quarter  Month\n",
      "1596     12        97.18     916402.76        3      7\n",
      "1597     12        99.22     912403.67        3      7\n",
      "3884     28        97.18    1225336.41        3      7\n",
      "3885     28        99.22    1205884.98        3      7\n",
      "4597     33        97.66     267495.76        3      7\n",
      "4599     33       100.14     280937.84        3      7\n",
      "4600     33        97.04     252734.31        3      7\n",
      "4649     33        98.43     226702.36        3      7\n",
      "4652     33        97.17     238915.05        3      7\n",
      "4657     33        99.66     237095.82        3      8\n",
      "4658     33        99.20     239198.36        3      9\n",
      "4701     33        98.15     244338.31        2      6\n",
      "4703     33        97.60     287033.64        3      7\n",
      "4707     33       100.07     297753.49        3      8\n",
      "5314     38        97.18     338277.71        3      7\n",
      "5315     38        99.22     328336.85        3      7\n"
     ]
    }
   ],
   "source": [
    "hottemp = Walmart.loc[Walmart.Temperature >= 97,[\"Store\",\"Temperature\",\"Weekly_Sales\",\"Quarter\",\"Month\"]]\n",
    "print(hottemp)"
   ]
  },
  {
   "cell_type": "markdown",
   "metadata": {},
   "source": [
    "<font color='blue'> **Sales on the coldest day (-2.06) -> 558027.77 by store 7 during Quarter 1** </font> \n",
    "\n",
    "<font color=\"red\"> **Sales on the hottest day (100.14) -> 280937.84 by store 33 during Quarter 3** </font>\n",
    "\n",
    "<font color=\"green\"> **With the correlation table between Temperature and Weekly sales, it seems Temperature and Weekly sales are weakly negatively corretated** </font>"
   ]
  },
  {
   "cell_type": "markdown",
   "metadata": {},
   "source": [
    "------------------------------"
   ]
  },
  {
   "cell_type": "markdown",
   "metadata": {},
   "source": [
    "# *Fuel price vs Weekly sales*"
   ]
  },
  {
   "cell_type": "code",
   "execution_count": 151,
   "metadata": {},
   "outputs": [
    {
     "data": {
      "text/plain": [
       "<AxesSubplot:xlabel='Fuel_Price'>"
      ]
     },
     "execution_count": 151,
     "metadata": {},
     "output_type": "execute_result"
    },
    {
     "data": {
      "image/png": "[encoded data removed]",
      "text/plain": [
       "<Figure size 432x288 with 1 Axes>"
      ]
     },
     "metadata": {
      "needs_background": "light"
     },
     "output_type": "display_data"
    }
   ],
   "source": [
    "sns.boxplot(Walmart.Fuel_Price)"
   ]
  },
  {
   "cell_type": "code",
   "execution_count": 152,
   "metadata": {},
   "outputs": [
    {
     "data": {
      "text/plain": [
       "<AxesSubplot:xlabel='Fuel_Price', ylabel='Weekly_Sales'>"
      ]
     },
     "execution_count": 152,
     "metadata": {},
     "output_type": "execute_result"
    },
    {
     "data": {
      "image/png": "[encoded data removed]",
      "text/plain": [
       "<Figure size 432x288 with 1 Axes>"
      ]
     },
     "metadata": {
      "needs_background": "light"
     },
     "output_type": "display_data"
    }
   ],
   "source": [
    "sns.scatterplot(Walmart.Fuel_Price,Walmart.Weekly_Sales)"
   ]
  },
  {
   "cell_type": "code",
   "execution_count": 153,
   "metadata": {},
   "outputs": [
    {
     "name": "stdout",
     "output_type": "stream",
     "text": [
      "Mean of Fuel Price :  3.358606837606832\n",
      "Median of the Fuel price :  3.445\n",
      "Maximum Fuel price :  4.468\n",
      "Minimum Fuel price : 2.472\n"
     ]
    },
    {
     "data": {
      "text/html": [
       "<div>\n",
       "<style scoped>\n",
       "    .dataframe tbody tr th:only-of-type {\n",
       "        vertical-align: middle;\n",
       "    }\n",
       "\n",
       "    .dataframe tbody tr th {\n",
       "        vertical-align: top;\n",
       "    }\n",
       "\n",
       "    .dataframe thead th {\n",
       "        text-align: right;\n",
       "    }\n",
       "</style>\n",
       "<table border=\"1\" class=\"dataframe\">\n",
       "  <thead>\n",
       "    <tr style=\"text-align: right;\">\n",
       "      <th></th>\n",
       "      <th>Fuel_Price</th>\n",
       "      <th>Weekly_Sales</th>\n",
       "    </tr>\n",
       "  </thead>\n",
       "  <tbody>\n",
       "    <tr>\n",
       "      <th>Fuel_Price</th>\n",
       "      <td>1.000000</td>\n",
       "      <td>0.009464</td>\n",
       "    </tr>\n",
       "    <tr>\n",
       "      <th>Weekly_Sales</th>\n",
       "      <td>0.009464</td>\n",
       "      <td>1.000000</td>\n",
       "    </tr>\n",
       "  </tbody>\n",
       "</table>\n",
       "</div>"
      ],
      "text/plain": [
       "              Fuel_Price  Weekly_Sales\n",
       "Fuel_Price      1.000000      0.009464\n",
       "Weekly_Sales    0.009464      1.000000"
      ]
     },
     "execution_count": 153,
     "metadata": {},
     "output_type": "execute_result"
    }
   ],
   "source": [
    "meanFp = Walmart.Fuel_Price.mean()\n",
    "medianFp = Walmart.Fuel_Price.median()\n",
    "maxFp = Walmart.Fuel_Price.max()\n",
    "minFp = Walmart.Fuel_Price.min()\n",
    "\n",
    "print(\"Mean of Fuel Price : \",meanFp)\n",
    "print(\"Median of the Fuel price : \",medianFp)\n",
    "print(\"Maximum Fuel price : \",maxFp)\n",
    "print(\"Minimum Fuel price :\",minFp)\n",
    "\n",
    "fuelandsales = Walmart[[\"Fuel_Price\",\"Weekly_Sales\"]]\n",
    "fuelandsales.corr()"
   ]
  },
  {
   "cell_type": "code",
   "execution_count": 154,
   "metadata": {},
   "outputs": [
    {
     "name": "stdout",
     "output_type": "stream",
     "text": [
      "3366749334.19\n"
     ]
    }
   ],
   "source": [
    "Abovemedfuel = Walmart.loc[Walmart.Fuel_Price >= 3.445 ,[\"Store\",\"Fuel_Price\",\"Weekly_Sales\",\"Quarter\",\"Month\"]]\n",
    "print(Abovemedfuel.Weekly_Sales.sum())"
   ]
  },
  {
   "cell_type": "code",
   "execution_count": 155,
   "metadata": {},
   "outputs": [
    {
     "name": "stdout",
     "output_type": "stream",
     "text": [
      "3370469652.92\n"
     ]
    }
   ],
   "source": [
    "Belowmedfuel = Walmart.loc[Walmart.Fuel_Price < 3.445 ,[\"Store\",\"Fuel_Price\",\"Weekly_Sales\",\"Quarter\",\"Month\"]]\n",
    "print(Belowmedfuel.Weekly_Sales.sum())"
   ]
  },
  {
   "cell_type": "markdown",
   "metadata": {},
   "source": [
    "<font color=\"green\"> **The Fuel price has weak positive correlation with Weeklysales, basically not correlated. There is very little association between them.** </font>"
   ]
  },
  {
   "cell_type": "markdown",
   "metadata": {},
   "source": [
    "________________________________"
   ]
  },
  {
   "cell_type": "markdown",
   "metadata": {},
   "source": [
    "# *Unemployement vs Weeklysales*"
   ]
  },
  {
   "cell_type": "code",
   "execution_count": 156,
   "metadata": {},
   "outputs": [
    {
     "data": {
      "text/plain": [
       "<AxesSubplot:xlabel='Unemployment'>"
      ]
     },
     "execution_count": 156,
     "metadata": {},
     "output_type": "execute_result"
    },
    {
     "data": {
      "image/png": "[encoded data removed]",
      "text/plain": [
       "<Figure size 432x288 with 1 Axes>"
      ]
     },
     "metadata": {
      "needs_background": "light"
     },
     "output_type": "display_data"
    }
   ],
   "source": [
    "sns.boxplot(Walmart.Unemployment)"
   ]
  },
  {
   "cell_type": "code",
   "execution_count": 157,
   "metadata": {},
   "outputs": [
    {
     "data": {
      "text/plain": [
       "<AxesSubplot:xlabel='Unemployment', ylabel='Weekly_Sales'>"
      ]
     },
     "execution_count": 157,
     "metadata": {},
     "output_type": "execute_result"
    },
    {
     "data": {
      "image/png": "[encoded data removed]",
      "text/plain": [
       "<Figure size 432x288 with 1 Axes>"
      ]
     },
     "metadata": {
      "needs_background": "light"
     },
     "output_type": "display_data"
    }
   ],
   "source": [
    "sns.scatterplot(Walmart.Unemployment,Walmart.Weekly_Sales)"
   ]
  },
  {
   "cell_type": "code",
   "execution_count": 158,
   "metadata": {},
   "outputs": [
    {
     "name": "stdout",
     "output_type": "stream",
     "text": [
      "Mean of Unemployment :  7.999151048951067\n",
      "Median of the Unemployment :  7.874\n",
      "Maximum Unemployment :  14.312999999999999\n",
      "Minimum Unemployment : 3.8789999999999996\n"
     ]
    },
    {
     "data": {
      "text/html": [
       "<div>\n",
       "<style scoped>\n",
       "    .dataframe tbody tr th:only-of-type {\n",
       "        vertical-align: middle;\n",
       "    }\n",
       "\n",
       "    .dataframe tbody tr th {\n",
       "        vertical-align: top;\n",
       "    }\n",
       "\n",
       "    .dataframe thead th {\n",
       "        text-align: right;\n",
       "    }\n",
       "</style>\n",
       "<table border=\"1\" class=\"dataframe\">\n",
       "  <thead>\n",
       "    <tr style=\"text-align: right;\">\n",
       "      <th></th>\n",
       "      <th>Unemployment</th>\n",
       "      <th>Weekly_Sales</th>\n",
       "    </tr>\n",
       "  </thead>\n",
       "  <tbody>\n",
       "    <tr>\n",
       "      <th>Unemployment</th>\n",
       "      <td>1.000000</td>\n",
       "      <td>-0.106176</td>\n",
       "    </tr>\n",
       "    <tr>\n",
       "      <th>Weekly_Sales</th>\n",
       "      <td>-0.106176</td>\n",
       "      <td>1.000000</td>\n",
       "    </tr>\n",
       "  </tbody>\n",
       "</table>\n",
       "</div>"
      ],
      "text/plain": [
       "              Unemployment  Weekly_Sales\n",
       "Unemployment      1.000000     -0.106176\n",
       "Weekly_Sales     -0.106176      1.000000"
      ]
     },
     "execution_count": 158,
     "metadata": {},
     "output_type": "execute_result"
    }
   ],
   "source": [
    "meanUnemployment = Walmart.Unemployment.mean()\n",
    "medianUnemployment = Walmart.Unemployment.median()\n",
    "maxUnemployment = Walmart.Unemployment.max()\n",
    "minUnemployment = Walmart.Unemployment.min()\n",
    "\n",
    "print(\"Mean of Unemployment : \",meanUnemployment)\n",
    "print(\"Median of the Unemployment : \",medianUnemployment)\n",
    "print(\"Maximum Unemployment : \",maxUnemployment)\n",
    "print(\"Minimum Unemployment :\",minUnemployment)\n",
    "\n",
    "unemploymentandsales = Walmart[[\"Unemployment\",\"Weekly_Sales\"]]\n",
    "unemploymentandsales.corr()"
   ]
  },
  {
   "cell_type": "markdown",
   "metadata": {},
   "source": [
    "<font color=\"green\"> **With the correlation table between Unemployment and Weekly sales, it seems Unemployment and Weekly sales are negatively corretated** </font>"
   ]
  },
  {
   "cell_type": "markdown",
   "metadata": {},
   "source": [
    "________________________________________________"
   ]
  },
  {
   "cell_type": "markdown",
   "metadata": {},
   "source": [
    "# *CPI vs Weeklysales* "
   ]
  },
  {
   "cell_type": "code",
   "execution_count": 159,
   "metadata": {},
   "outputs": [
    {
     "data": {
      "text/plain": [
       "<AxesSubplot:xlabel='CPI'>"
      ]
     },
     "execution_count": 159,
     "metadata": {},
     "output_type": "execute_result"
    },
    {
     "data": {
      "image/png": "[encoded data removed]",
      "text/plain": [
       "<Figure size 432x288 with 1 Axes>"
      ]
     },
     "metadata": {
      "needs_background": "light"
     },
     "output_type": "display_data"
    }
   ],
   "source": [
    "sns.boxplot(Walmart.CPI)"
   ]
  },
  {
   "cell_type": "code",
   "execution_count": 160,
   "metadata": {},
   "outputs": [
    {
     "data": {
      "text/plain": [
       "<AxesSubplot:xlabel='CPI', ylabel='Weekly_Sales'>"
      ]
     },
     "execution_count": 160,
     "metadata": {},
     "output_type": "execute_result"
    },
    {
     "data": {
      "image/png": "[encoded data removed]",
      "text/plain": [
       "<Figure size 432x288 with 1 Axes>"
      ]
     },
     "metadata": {
      "needs_background": "light"
     },
     "output_type": "display_data"
    }
   ],
   "source": [
    "sns.scatterplot(Walmart.CPI,Walmart.Weekly_Sales)"
   ]
  },
  {
   "cell_type": "code",
   "execution_count": 161,
   "metadata": {},
   "outputs": [
    {
     "name": "stdout",
     "output_type": "stream",
     "text": [
      "Mean of CPI :  171.5783938487799\n",
      "Median of the CPI :  182.6165205\n",
      "Maximum CPI :  227.2328068\n",
      "Minimum CPI : 126.064\n"
     ]
    },
    {
     "data": {
      "text/html": [
       "<div>\n",
       "<style scoped>\n",
       "    .dataframe tbody tr th:only-of-type {\n",
       "        vertical-align: middle;\n",
       "    }\n",
       "\n",
       "    .dataframe tbody tr th {\n",
       "        vertical-align: top;\n",
       "    }\n",
       "\n",
       "    .dataframe thead th {\n",
       "        text-align: right;\n",
       "    }\n",
       "</style>\n",
       "<table border=\"1\" class=\"dataframe\">\n",
       "  <thead>\n",
       "    <tr style=\"text-align: right;\">\n",
       "      <th></th>\n",
       "      <th>CPI</th>\n",
       "      <th>Weekly_Sales</th>\n",
       "    </tr>\n",
       "  </thead>\n",
       "  <tbody>\n",
       "    <tr>\n",
       "      <th>CPI</th>\n",
       "      <td>1.000000</td>\n",
       "      <td>-0.072634</td>\n",
       "    </tr>\n",
       "    <tr>\n",
       "      <th>Weekly_Sales</th>\n",
       "      <td>-0.072634</td>\n",
       "      <td>1.000000</td>\n",
       "    </tr>\n",
       "  </tbody>\n",
       "</table>\n",
       "</div>"
      ],
      "text/plain": [
       "                   CPI  Weekly_Sales\n",
       "CPI           1.000000     -0.072634\n",
       "Weekly_Sales -0.072634      1.000000"
      ]
     },
     "execution_count": 161,
     "metadata": {},
     "output_type": "execute_result"
    }
   ],
   "source": [
    "meanCPI = Walmart.CPI.mean()\n",
    "medianCPI = Walmart.CPI.median()\n",
    "maxCPI = Walmart.CPI.max()\n",
    "minCPI = Walmart.CPI.min()\n",
    "\n",
    "print(\"Mean of CPI : \",meanCPI)\n",
    "print(\"Median of the CPI : \",medianCPI)\n",
    "print(\"Maximum CPI : \",maxCPI)\n",
    "print(\"Minimum CPI :\",minCPI)\n",
    "\n",
    "CPIandsales = Walmart[[\"CPI\",\"Weekly_Sales\"]]\n",
    "CPIandsales.corr()"
   ]
  },
  {
   "cell_type": "markdown",
   "metadata": {},
   "source": [
    "<font color=\"green\"> **With the correlation table between CPI and Weekly sales, it seems CPI and Weekly sales are weakly negatively corretated** </font>"
   ]
  },
  {
   "cell_type": "markdown",
   "metadata": {},
   "source": [
    "_________________________________________________"
   ]
  },
  {
   "cell_type": "markdown",
   "metadata": {},
   "source": [
    "## Which store has maximum sales ?"
   ]
  },
  {
   "cell_type": "code",
   "execution_count": 162,
   "metadata": {},
   "outputs": [
    {
     "data": {
      "text/plain": [
       "Store\n",
       "20    3.013978e+08\n",
       "Name: Weekly_Sales, dtype: float64"
      ]
     },
     "execution_count": 162,
     "metadata": {},
     "output_type": "execute_result"
    }
   ],
   "source": [
    "Maxsales=Walmart.groupby([\"Store\"])[\"Weekly_Sales\"].sum().sort_values(ascending=False)\n",
    "Maxsales.head(1)"
   ]
  },
  {
   "cell_type": "code",
   "execution_count": 163,
   "metadata": {},
   "outputs": [
    {
     "data": {
      "text/plain": [
       "<AxesSubplot:xlabel='Store', ylabel='Weekly_Sales'>"
      ]
     },
     "execution_count": 163,
     "metadata": {},
     "output_type": "execute_result"
    },
    {
     "data": {
      "image/png": "[encoded data removed]",
      "text/plain": [
       "<Figure size 1080x1080 with 1 Axes>"
      ]
     },
     "metadata": {
      "needs_background": "light"
     },
     "output_type": "display_data"
    }
   ],
   "source": [
    "plt.figure(figsize=(15,15))\n",
    "sns.barplot(x=Walmart.Store, y = Walmart.Weekly_Sales)"
   ]
  },
  {
   "cell_type": "markdown",
   "metadata": {},
   "source": [
    "### <font color= purple> **->From sorting and ploting we can see that Store 20 has the maximum sales.** </font>"
   ]
  },
  {
   "cell_type": "markdown",
   "metadata": {},
   "source": [
    "____________________________________________________________"
   ]
  },
  {
   "cell_type": "markdown",
   "metadata": {},
   "source": [
    "## Which store has maximum standard deviation ?"
   ]
  },
  {
   "cell_type": "code",
   "execution_count": 164,
   "metadata": {},
   "outputs": [
    {
     "name": "stdout",
     "output_type": "stream",
     "text": [
      "Maximum Standard Deviation is for the Store No. 14 \n"
     ]
    }
   ],
   "source": [
    "maxstd = Walmart.groupby('Store')['Weekly_Sales'].std().sort_values(ascending=False)\n",
    "maxstd.head(1)\n",
    "print(\"Maximum Standard Deviation is for the Store No. {} \".format(maxstd.idxmax()))"
   ]
  },
  {
   "cell_type": "code",
   "execution_count": 165,
   "metadata": {},
   "outputs": [
    {
     "data": {
      "text/plain": [
       "<AxesSubplot:xlabel='Weekly_Sales', ylabel='Density'>"
      ]
     },
     "execution_count": 165,
     "metadata": {},
     "output_type": "execute_result"
    },
    {
     "data": {
      "image/png": "[encoded data removed]",
      "text/plain": [
       "<Figure size 360x360 with 1 Axes>"
      ]
     },
     "metadata": {
      "needs_background": "light"
     },
     "output_type": "display_data"
    }
   ],
   "source": [
    "stores = Walmart.groupby('Store')\n",
    "store14 = stores.get_group(14)\n",
    "plt.figure(figsize=(5,5))\n",
    "sns.distplot(store14.Weekly_Sales)"
   ]
  },
  {
   "cell_type": "code",
   "execution_count": 166,
   "metadata": {},
   "outputs": [
    {
     "data": {
      "text/plain": [
       "<AxesSubplot:xlabel='Weekly_Sales'>"
      ]
     },
     "execution_count": 166,
     "metadata": {},
     "output_type": "execute_result"
    },
    {
     "data": {
      "image/png": "[encoded data removed]",
      "text/plain": [
       "<Figure size 360x360 with 1 Axes>"
      ]
     },
     "metadata": {
      "needs_background": "light"
     },
     "output_type": "display_data"
    }
   ],
   "source": [
    "stores = Walmart.groupby('Store')\n",
    "store14 = stores.get_group(14)\n",
    "plt.figure(figsize=(5,5))\n",
    "sns.boxplot(store14.Weekly_Sales)"
   ]
  },
  {
   "cell_type": "code",
   "execution_count": 167,
   "metadata": {},
   "outputs": [
    {
     "data": {
      "text/plain": [
       "1905    3818686.45\n",
       "1957    3369068.99\n",
       "1901    2921709.71\n",
       "1904    2762861.41\n",
       "1953    2685351.81\n",
       "1859    2623469.95\n",
       "1903    2600519.26\n",
       "1956    2594363.09\n",
       "1867    2495630.51\n",
       "1955    2470581.29\n",
       "Name: Weekly_Sales, dtype: float64"
      ]
     },
     "execution_count": 167,
     "metadata": {},
     "output_type": "execute_result"
    }
   ],
   "source": [
    "#top 10 weekly sales of store 14\n",
    "store14[\"Weekly_Sales\"].sort_values(ascending=False).head(10)"
   ]
  },
  {
   "cell_type": "code",
   "execution_count": 168,
   "metadata": {},
   "outputs": [
    {
     "data": {
      "text/plain": [
       "<AxesSubplot:>"
      ]
     },
     "execution_count": 168,
     "metadata": {},
     "output_type": "execute_result"
    },
    {
     "data": {
      "image/png": "[encoded data removed]",
      "text/plain": [
       "<Figure size 432x288 with 1 Axes>"
      ]
     },
     "metadata": {
      "needs_background": "light"
     },
     "output_type": "display_data"
    }
   ],
   "source": [
    "store14[\"Weekly_Sales\"].hist(bins=20)"
   ]
  },
  {
   "cell_type": "code",
   "execution_count": 169,
   "metadata": {},
   "outputs": [],
   "source": [
    "a=Walmart[\"Weekly_Sales\"].mean() #mean weekly sales of all the stores combined\n",
    "b=store14[\"Weekly_Sales\"].mean() #mean weekly stores of store14"
   ]
  },
  {
   "cell_type": "code",
   "execution_count": 170,
   "metadata": {},
   "outputs": [
    {
     "data": {
      "text/plain": [
       "93.03211065547698"
      ]
     },
     "execution_count": 170,
     "metadata": {},
     "output_type": "execute_result"
    }
   ],
   "source": [
    "(b-a)/a *100"
   ]
  },
  {
   "cell_type": "markdown",
   "metadata": {},
   "source": [
    "### <font color=purple> **-> We observe that store 14 has max standard deviation, We can also see mean weekly sales of store 14 is greater than mean weekly sales of all the stores by almost 93%, it is because we have multiple outliers for store 14 as seen in the boxplot.** </font>"
   ]
  },
  {
   "cell_type": "markdown",
   "metadata": {},
   "source": [
    "________________________________________"
   ]
  },
  {
   "cell_type": "markdown",
   "metadata": {},
   "source": [
    "## find out the coefficient of mean to standard deviation"
   ]
  },
  {
   "cell_type": "code",
   "execution_count": 171,
   "metadata": {},
   "outputs": [
    {
     "name": "stdout",
     "output_type": "stream",
     "text": [
      "And Maximum Coefficient of variation is for the Store No. 35 \n"
     ]
    }
   ],
   "source": [
    "#The coefficient of variation represents the ratio of the standard deviation to the mean\n",
    "\n",
    "cmstd = ((Walmart.groupby('Store')['Weekly_Sales'].std())/(Walmart.groupby('Store')['Weekly_Sales'].mean()))*100\n",
    "cmstd.sort_values(ascending=False)\n",
    "print(\"And Maximum Coefficient of variation is for the Store No. {} \".format(cmstd.idxmax()))"
   ]
  },
  {
   "cell_type": "code",
   "execution_count": 172,
   "metadata": {},
   "outputs": [
    {
     "data": {
      "text/plain": [
       "<AxesSubplot:xlabel='Weekly_Sales'>"
      ]
     },
     "execution_count": 172,
     "metadata": {},
     "output_type": "execute_result"
    },
    {
     "data": {
      "image/png": "[encoded data removed]",
      "text/plain": [
       "<Figure size 360x360 with 1 Axes>"
      ]
     },
     "metadata": {
      "needs_background": "light"
     },
     "output_type": "display_data"
    }
   ],
   "source": [
    "stores = Walmart.groupby('Store')\n",
    "store35 = stores.get_group(35)\n",
    "plt.figure(figsize=(5,5))\n",
    "sns.boxplot(store35.Weekly_Sales)"
   ]
  },
  {
   "cell_type": "code",
   "execution_count": 173,
   "metadata": {},
   "outputs": [
    {
     "data": {
      "text/plain": [
       "<AxesSubplot:xlabel='Date', ylabel='Weekly_Sales'>"
      ]
     },
     "execution_count": 173,
     "metadata": {},
     "output_type": "execute_result"
    },
    {
     "data": {
      "image/png": "[encoded data removed]",
      "text/plain": [
       "<Figure size 2880x720 with 1 Axes>"
      ]
     },
     "metadata": {
      "needs_background": "light"
     },
     "output_type": "display_data"
    }
   ],
   "source": [
    "plt.figure(figsize=(40,10))\n",
    "sns.lineplot(x='Date', y = 'Weekly_Sales', data = store35)"
   ]
  },
  {
   "cell_type": "code",
   "execution_count": 174,
   "metadata": {},
   "outputs": [
    {
     "data": {
      "text/plain": [
       "849779.14"
      ]
     },
     "execution_count": 174,
     "metadata": {},
     "output_type": "execute_result"
    }
   ],
   "source": [
    "store35[\"Weekly_Sales\"].median()"
   ]
  },
  {
   "cell_type": "code",
   "execution_count": 175,
   "metadata": {},
   "outputs": [
    {
     "data": {
      "text/plain": [
       "849779.14"
      ]
     },
     "execution_count": 175,
     "metadata": {},
     "output_type": "execute_result"
    }
   ],
   "source": [
    "store35[\"Weekly_Sales\"].quantile(0.5)"
   ]
  },
  {
   "cell_type": "code",
   "execution_count": 176,
   "metadata": {},
   "outputs": [
    {
     "name": "stdout",
     "output_type": "stream",
     "text": [
      "IQR : 201542.46499999997 , IQR *1.5 = 1305379.3875\n"
     ]
    }
   ],
   "source": [
    "q1 = store35[\"Weekly_Sales\"].quantile(0.25)\n",
    "q3 = store35[\"Weekly_Sales\"].quantile(0.75)\n",
    "IQR =q3 - q1\n",
    "limit = q3 + (IQR * 1.5)\n",
    "print(\"IQR : {} , IQR *1.5 = {}\".format(IQR,limit))\n"
   ]
  },
  {
   "cell_type": "code",
   "execution_count": 177,
   "metadata": {},
   "outputs": [
    {
     "data": {
      "text/html": [
       "<div>\n",
       "<style scoped>\n",
       "    .dataframe tbody tr th:only-of-type {\n",
       "        vertical-align: middle;\n",
       "    }\n",
       "\n",
       "    .dataframe tbody tr th {\n",
       "        vertical-align: top;\n",
       "    }\n",
       "\n",
       "    .dataframe thead th {\n",
       "        text-align: right;\n",
       "    }\n",
       "</style>\n",
       "<table border=\"1\" class=\"dataframe\">\n",
       "  <thead>\n",
       "    <tr style=\"text-align: right;\">\n",
       "      <th></th>\n",
       "      <th>Store</th>\n",
       "      <th>Date</th>\n",
       "      <th>Weekly_Sales</th>\n",
       "      <th>Holiday_Flag</th>\n",
       "      <th>Temperature</th>\n",
       "      <th>Fuel_Price</th>\n",
       "      <th>CPI</th>\n",
       "      <th>Unemployment</th>\n",
       "      <th>Month</th>\n",
       "      <th>Year</th>\n",
       "      <th>Quarter</th>\n",
       "    </tr>\n",
       "  </thead>\n",
       "  <tbody>\n",
       "    <tr>\n",
       "      <th>4904</th>\n",
       "      <td>35</td>\n",
       "      <td>2010-11-26</td>\n",
       "      <td>1781866.98</td>\n",
       "      <td>1</td>\n",
       "      <td>46.67</td>\n",
       "      <td>3.039</td>\n",
       "      <td>136.689571</td>\n",
       "      <td>8.763</td>\n",
       "      <td>11</td>\n",
       "      <td>2010</td>\n",
       "      <td>4</td>\n",
       "    </tr>\n",
       "    <tr>\n",
       "      <th>4908</th>\n",
       "      <td>35</td>\n",
       "      <td>2010-12-24</td>\n",
       "      <td>1779236.54</td>\n",
       "      <td>0</td>\n",
       "      <td>31.34</td>\n",
       "      <td>3.141</td>\n",
       "      <td>136.597273</td>\n",
       "      <td>8.763</td>\n",
       "      <td>12</td>\n",
       "      <td>2010</td>\n",
       "      <td>4</td>\n",
       "    </tr>\n",
       "    <tr>\n",
       "      <th>4956</th>\n",
       "      <td>35</td>\n",
       "      <td>2011-11-25</td>\n",
       "      <td>1733822.40</td>\n",
       "      <td>1</td>\n",
       "      <td>47.88</td>\n",
       "      <td>3.492</td>\n",
       "      <td>140.421786</td>\n",
       "      <td>8.745</td>\n",
       "      <td>11</td>\n",
       "      <td>2011</td>\n",
       "      <td>4</td>\n",
       "    </tr>\n",
       "    <tr>\n",
       "      <th>4960</th>\n",
       "      <td>35</td>\n",
       "      <td>2011-12-23</td>\n",
       "      <td>1550214.02</td>\n",
       "      <td>0</td>\n",
       "      <td>41.59</td>\n",
       "      <td>3.389</td>\n",
       "      <td>140.528765</td>\n",
       "      <td>8.745</td>\n",
       "      <td>12</td>\n",
       "      <td>2011</td>\n",
       "      <td>4</td>\n",
       "    </tr>\n",
       "    <tr>\n",
       "      <th>4907</th>\n",
       "      <td>35</td>\n",
       "      <td>2010-12-17</td>\n",
       "      <td>1314987.40</td>\n",
       "      <td>0</td>\n",
       "      <td>31.62</td>\n",
       "      <td>3.140</td>\n",
       "      <td>136.529281</td>\n",
       "      <td>8.763</td>\n",
       "      <td>12</td>\n",
       "      <td>2010</td>\n",
       "      <td>4</td>\n",
       "    </tr>\n",
       "    <tr>\n",
       "      <th>4879</th>\n",
       "      <td>35</td>\n",
       "      <td>2010-06-04</td>\n",
       "      <td>1282378.71</td>\n",
       "      <td>0</td>\n",
       "      <td>74.29</td>\n",
       "      <td>2.847</td>\n",
       "      <td>136.218168</td>\n",
       "      <td>9.051</td>\n",
       "      <td>6</td>\n",
       "      <td>2010</td>\n",
       "      <td>2</td>\n",
       "    </tr>\n",
       "    <tr>\n",
       "      <th>4864</th>\n",
       "      <td>35</td>\n",
       "      <td>2010-02-19</td>\n",
       "      <td>1270658.64</td>\n",
       "      <td>0</td>\n",
       "      <td>32.44</td>\n",
       "      <td>2.745</td>\n",
       "      <td>135.465778</td>\n",
       "      <td>9.262</td>\n",
       "      <td>2</td>\n",
       "      <td>2010</td>\n",
       "      <td>1</td>\n",
       "    </tr>\n",
       "    <tr>\n",
       "      <th>4884</th>\n",
       "      <td>35</td>\n",
       "      <td>2010-07-09</td>\n",
       "      <td>1268766.76</td>\n",
       "      <td>0</td>\n",
       "      <td>82.69</td>\n",
       "      <td>2.793</td>\n",
       "      <td>136.396264</td>\n",
       "      <td>8.861</td>\n",
       "      <td>7</td>\n",
       "      <td>2010</td>\n",
       "      <td>3</td>\n",
       "    </tr>\n",
       "    <tr>\n",
       "      <th>4883</th>\n",
       "      <td>35</td>\n",
       "      <td>2010-07-02</td>\n",
       "      <td>1245827.08</td>\n",
       "      <td>0</td>\n",
       "      <td>76.25</td>\n",
       "      <td>2.815</td>\n",
       "      <td>136.372289</td>\n",
       "      <td>8.861</td>\n",
       "      <td>7</td>\n",
       "      <td>2010</td>\n",
       "      <td>3</td>\n",
       "    </tr>\n",
       "    <tr>\n",
       "      <th>4862</th>\n",
       "      <td>35</td>\n",
       "      <td>2010-02-05</td>\n",
       "      <td>1230613.50</td>\n",
       "      <td>0</td>\n",
       "      <td>27.19</td>\n",
       "      <td>2.784</td>\n",
       "      <td>135.352461</td>\n",
       "      <td>9.262</td>\n",
       "      <td>2</td>\n",
       "      <td>2010</td>\n",
       "      <td>1</td>\n",
       "    </tr>\n",
       "  </tbody>\n",
       "</table>\n",
       "</div>"
      ],
      "text/plain": [
       "      Store       Date  Weekly_Sales  Holiday_Flag  Temperature  Fuel_Price  \\\n",
       "4904     35 2010-11-26    1781866.98             1        46.67       3.039   \n",
       "4908     35 2010-12-24    1779236.54             0        31.34       3.141   \n",
       "4956     35 2011-11-25    1733822.40             1        47.88       3.492   \n",
       "4960     35 2011-12-23    1550214.02             0        41.59       3.389   \n",
       "4907     35 2010-12-17    1314987.40             0        31.62       3.140   \n",
       "4879     35 2010-06-04    1282378.71             0        74.29       2.847   \n",
       "4864     35 2010-02-19    1270658.64             0        32.44       2.745   \n",
       "4884     35 2010-07-09    1268766.76             0        82.69       2.793   \n",
       "4883     35 2010-07-02    1245827.08             0        76.25       2.815   \n",
       "4862     35 2010-02-05    1230613.50             0        27.19       2.784   \n",
       "\n",
       "             CPI  Unemployment  Month  Year  Quarter  \n",
       "4904  136.689571         8.763     11  2010        4  \n",
       "4908  136.597273         8.763     12  2010        4  \n",
       "4956  140.421786         8.745     11  2011        4  \n",
       "4960  140.528765         8.745     12  2011        4  \n",
       "4907  136.529281         8.763     12  2010        4  \n",
       "4879  136.218168         9.051      6  2010        2  \n",
       "4864  135.465778         9.262      2  2010        1  \n",
       "4884  136.396264         8.861      7  2010        3  \n",
       "4883  136.372289         8.861      7  2010        3  \n",
       "4862  135.352461         9.262      2  2010        1  "
      ]
     },
     "execution_count": 177,
     "metadata": {},
     "output_type": "execute_result"
    }
   ],
   "source": [
    "store35sales=store35.sort_values(by=\"Weekly_Sales\",ascending=False)\n",
    "store35sales.head(10)"
   ]
  },
  {
   "cell_type": "markdown",
   "metadata": {},
   "source": [
    "### <font color=purple> **->The median or 50% quantile sales of store35 is 849779.14 and the IQR is 201542.4649 hence the sales above 1305379.3875 are classified as outliers hence we notice top 5 sales is classified as outlier.** </font>"
   ]
  },
  {
   "cell_type": "markdown",
   "metadata": {},
   "source": [
    "### <font color=purple> **->We see that the outliers are mostly in the month of November and December hence store35 should be ready to meet the sudden increace in demand.** </font>"
   ]
  },
  {
   "cell_type": "markdown",
   "metadata": {},
   "source": [
    "_________________________________"
   ]
  },
  {
   "cell_type": "markdown",
   "metadata": {},
   "source": [
    "## Which store/s has good quarterly growth rate in Q3’2012 ?"
   ]
  },
  {
   "cell_type": "code",
   "execution_count": 178,
   "metadata": {},
   "outputs": [],
   "source": [
    "# taking out 2012 data   \n",
    "year12 = Walmart.loc[Walmart.Year == 2012,[\"Store\",\"Weekly_Sales\",\"Quarter\"]]"
   ]
  },
  {
   "cell_type": "code",
   "execution_count": 179,
   "metadata": {},
   "outputs": [
    {
     "data": {
      "text/html": [
       "<div>\n",
       "<style scoped>\n",
       "    .dataframe tbody tr th:only-of-type {\n",
       "        vertical-align: middle;\n",
       "    }\n",
       "\n",
       "    .dataframe tbody tr th {\n",
       "        vertical-align: top;\n",
       "    }\n",
       "\n",
       "    .dataframe thead th {\n",
       "        text-align: right;\n",
       "    }\n",
       "</style>\n",
       "<table border=\"1\" class=\"dataframe\">\n",
       "  <thead>\n",
       "    <tr style=\"text-align: right;\">\n",
       "      <th></th>\n",
       "      <th>Store</th>\n",
       "      <th>Weekly_Sales</th>\n",
       "      <th>Quarter</th>\n",
       "    </tr>\n",
       "  </thead>\n",
       "  <tbody>\n",
       "    <tr>\n",
       "      <th>100</th>\n",
       "      <td>1</td>\n",
       "      <td>1550369.92</td>\n",
       "      <td>1</td>\n",
       "    </tr>\n",
       "    <tr>\n",
       "      <th>101</th>\n",
       "      <td>1</td>\n",
       "      <td>1459601.17</td>\n",
       "      <td>1</td>\n",
       "    </tr>\n",
       "    <tr>\n",
       "      <th>102</th>\n",
       "      <td>1</td>\n",
       "      <td>1394393.84</td>\n",
       "      <td>1</td>\n",
       "    </tr>\n",
       "    <tr>\n",
       "      <th>103</th>\n",
       "      <td>1</td>\n",
       "      <td>1319325.59</td>\n",
       "      <td>1</td>\n",
       "    </tr>\n",
       "    <tr>\n",
       "      <th>104</th>\n",
       "      <td>1</td>\n",
       "      <td>1636339.65</td>\n",
       "      <td>1</td>\n",
       "    </tr>\n",
       "    <tr>\n",
       "      <th>...</th>\n",
       "      <td>...</td>\n",
       "      <td>...</td>\n",
       "      <td>...</td>\n",
       "    </tr>\n",
       "    <tr>\n",
       "      <th>6430</th>\n",
       "      <td>45</td>\n",
       "      <td>713173.95</td>\n",
       "      <td>3</td>\n",
       "    </tr>\n",
       "    <tr>\n",
       "      <th>6431</th>\n",
       "      <td>45</td>\n",
       "      <td>733455.07</td>\n",
       "      <td>4</td>\n",
       "    </tr>\n",
       "    <tr>\n",
       "      <th>6432</th>\n",
       "      <td>45</td>\n",
       "      <td>734464.36</td>\n",
       "      <td>4</td>\n",
       "    </tr>\n",
       "    <tr>\n",
       "      <th>6433</th>\n",
       "      <td>45</td>\n",
       "      <td>718125.53</td>\n",
       "      <td>4</td>\n",
       "    </tr>\n",
       "    <tr>\n",
       "      <th>6434</th>\n",
       "      <td>45</td>\n",
       "      <td>760281.43</td>\n",
       "      <td>4</td>\n",
       "    </tr>\n",
       "  </tbody>\n",
       "</table>\n",
       "<p>1935 rows × 3 columns</p>\n",
       "</div>"
      ],
      "text/plain": [
       "      Store  Weekly_Sales  Quarter\n",
       "100       1    1550369.92        1\n",
       "101       1    1459601.17        1\n",
       "102       1    1394393.84        1\n",
       "103       1    1319325.59        1\n",
       "104       1    1636339.65        1\n",
       "...     ...           ...      ...\n",
       "6430     45     713173.95        3\n",
       "6431     45     733455.07        4\n",
       "6432     45     734464.36        4\n",
       "6433     45     718125.53        4\n",
       "6434     45     760281.43        4\n",
       "\n",
       "[1935 rows x 3 columns]"
      ]
     },
     "execution_count": 179,
     "metadata": {},
     "output_type": "execute_result"
    }
   ],
   "source": [
    "year12"
   ]
  },
  {
   "cell_type": "code",
   "execution_count": 180,
   "metadata": {},
   "outputs": [],
   "source": [
    "quat2 = year12.loc[year12.Quarter==2,[\"Store\",\"Weekly_Sales\",\"Quarter\"]] #quarter2 of year 2012\n",
    "quat3 = year12.loc[year12.Quarter==3,[\"Store\",\"Weekly_Sales\",'Quarter']] #quarter3 of year 2012"
   ]
  },
  {
   "cell_type": "code",
   "execution_count": 181,
   "metadata": {},
   "outputs": [
    {
     "data": {
      "text/html": [
       "<div>\n",
       "<style scoped>\n",
       "    .dataframe tbody tr th:only-of-type {\n",
       "        vertical-align: middle;\n",
       "    }\n",
       "\n",
       "    .dataframe tbody tr th {\n",
       "        vertical-align: top;\n",
       "    }\n",
       "\n",
       "    .dataframe thead th {\n",
       "        text-align: right;\n",
       "    }\n",
       "</style>\n",
       "<table border=\"1\" class=\"dataframe\">\n",
       "  <thead>\n",
       "    <tr style=\"text-align: right;\">\n",
       "      <th></th>\n",
       "      <th>Store</th>\n",
       "      <th>Weekly_Sales</th>\n",
       "      <th>Quarter</th>\n",
       "    </tr>\n",
       "  </thead>\n",
       "  <tbody>\n",
       "    <tr>\n",
       "      <th>113</th>\n",
       "      <td>1</td>\n",
       "      <td>1899676.88</td>\n",
       "      <td>2</td>\n",
       "    </tr>\n",
       "    <tr>\n",
       "      <th>114</th>\n",
       "      <td>1</td>\n",
       "      <td>1621031.70</td>\n",
       "      <td>2</td>\n",
       "    </tr>\n",
       "    <tr>\n",
       "      <th>115</th>\n",
       "      <td>1</td>\n",
       "      <td>1521577.87</td>\n",
       "      <td>2</td>\n",
       "    </tr>\n",
       "    <tr>\n",
       "      <th>116</th>\n",
       "      <td>1</td>\n",
       "      <td>1468928.37</td>\n",
       "      <td>2</td>\n",
       "    </tr>\n",
       "    <tr>\n",
       "      <th>117</th>\n",
       "      <td>1</td>\n",
       "      <td>1684519.99</td>\n",
       "      <td>2</td>\n",
       "    </tr>\n",
       "    <tr>\n",
       "      <th>118</th>\n",
       "      <td>1</td>\n",
       "      <td>1611096.05</td>\n",
       "      <td>2</td>\n",
       "    </tr>\n",
       "    <tr>\n",
       "      <th>119</th>\n",
       "      <td>1</td>\n",
       "      <td>1595901.87</td>\n",
       "      <td>2</td>\n",
       "    </tr>\n",
       "    <tr>\n",
       "      <th>120</th>\n",
       "      <td>1</td>\n",
       "      <td>1555444.55</td>\n",
       "      <td>2</td>\n",
       "    </tr>\n",
       "    <tr>\n",
       "      <th>121</th>\n",
       "      <td>1</td>\n",
       "      <td>1624477.58</td>\n",
       "      <td>2</td>\n",
       "    </tr>\n",
       "    <tr>\n",
       "      <th>122</th>\n",
       "      <td>1</td>\n",
       "      <td>1697230.96</td>\n",
       "      <td>2</td>\n",
       "    </tr>\n",
       "  </tbody>\n",
       "</table>\n",
       "</div>"
      ],
      "text/plain": [
       "     Store  Weekly_Sales  Quarter\n",
       "113      1    1899676.88        2\n",
       "114      1    1621031.70        2\n",
       "115      1    1521577.87        2\n",
       "116      1    1468928.37        2\n",
       "117      1    1684519.99        2\n",
       "118      1    1611096.05        2\n",
       "119      1    1595901.87        2\n",
       "120      1    1555444.55        2\n",
       "121      1    1624477.58        2\n",
       "122      1    1697230.96        2"
      ]
     },
     "metadata": {},
     "output_type": "display_data"
    },
    {
     "data": {
      "text/html": [
       "<div>\n",
       "<style scoped>\n",
       "    .dataframe tbody tr th:only-of-type {\n",
       "        vertical-align: middle;\n",
       "    }\n",
       "\n",
       "    .dataframe tbody tr th {\n",
       "        vertical-align: top;\n",
       "    }\n",
       "\n",
       "    .dataframe thead th {\n",
       "        text-align: right;\n",
       "    }\n",
       "</style>\n",
       "<table border=\"1\" class=\"dataframe\">\n",
       "  <thead>\n",
       "    <tr style=\"text-align: right;\">\n",
       "      <th></th>\n",
       "      <th>Store</th>\n",
       "      <th>Weekly_Sales</th>\n",
       "      <th>Quarter</th>\n",
       "    </tr>\n",
       "  </thead>\n",
       "  <tbody>\n",
       "    <tr>\n",
       "      <th>126</th>\n",
       "      <td>1</td>\n",
       "      <td>1769854.16</td>\n",
       "      <td>3</td>\n",
       "    </tr>\n",
       "    <tr>\n",
       "      <th>127</th>\n",
       "      <td>1</td>\n",
       "      <td>1527014.04</td>\n",
       "      <td>3</td>\n",
       "    </tr>\n",
       "    <tr>\n",
       "      <th>128</th>\n",
       "      <td>1</td>\n",
       "      <td>1497954.76</td>\n",
       "      <td>3</td>\n",
       "    </tr>\n",
       "    <tr>\n",
       "      <th>129</th>\n",
       "      <td>1</td>\n",
       "      <td>1439123.71</td>\n",
       "      <td>3</td>\n",
       "    </tr>\n",
       "    <tr>\n",
       "      <th>130</th>\n",
       "      <td>1</td>\n",
       "      <td>1631135.79</td>\n",
       "      <td>3</td>\n",
       "    </tr>\n",
       "    <tr>\n",
       "      <th>131</th>\n",
       "      <td>1</td>\n",
       "      <td>1592409.97</td>\n",
       "      <td>3</td>\n",
       "    </tr>\n",
       "    <tr>\n",
       "      <th>132</th>\n",
       "      <td>1</td>\n",
       "      <td>1597868.05</td>\n",
       "      <td>3</td>\n",
       "    </tr>\n",
       "    <tr>\n",
       "      <th>133</th>\n",
       "      <td>1</td>\n",
       "      <td>1494122.38</td>\n",
       "      <td>3</td>\n",
       "    </tr>\n",
       "    <tr>\n",
       "      <th>134</th>\n",
       "      <td>1</td>\n",
       "      <td>1582083.40</td>\n",
       "      <td>3</td>\n",
       "    </tr>\n",
       "    <tr>\n",
       "      <th>135</th>\n",
       "      <td>1</td>\n",
       "      <td>1661767.33</td>\n",
       "      <td>3</td>\n",
       "    </tr>\n",
       "  </tbody>\n",
       "</table>\n",
       "</div>"
      ],
      "text/plain": [
       "     Store  Weekly_Sales  Quarter\n",
       "126      1    1769854.16        3\n",
       "127      1    1527014.04        3\n",
       "128      1    1497954.76        3\n",
       "129      1    1439123.71        3\n",
       "130      1    1631135.79        3\n",
       "131      1    1592409.97        3\n",
       "132      1    1597868.05        3\n",
       "133      1    1494122.38        3\n",
       "134      1    1582083.40        3\n",
       "135      1    1661767.33        3"
      ]
     },
     "metadata": {},
     "output_type": "display_data"
    }
   ],
   "source": [
    "display(quat2.head(10))\n",
    "display(quat3.head(10))"
   ]
  },
  {
   "cell_type": "code",
   "execution_count": 182,
   "metadata": {},
   "outputs": [],
   "source": [
    "quat2sum = quat2.groupby(\"Store\")[\"Weekly_Sales\"].sum()\n",
    "quat3sum = quat3.groupby(\"Store\")[\"Weekly_Sales\"].sum()"
   ]
  },
  {
   "cell_type": "code",
   "execution_count": 183,
   "metadata": {},
   "outputs": [
    {
     "data": {
      "text/plain": [
       "Store\n",
       "1     20978760.12\n",
       "2     25083604.88\n",
       "3      5620316.49\n",
       "4     28454363.67\n",
       "5      4466363.69\n",
       "6     20833909.92\n",
       "7      7290859.27\n",
       "8     11919630.95\n",
       "9      7484935.11\n",
       "10    23750369.17\n",
       "11    17787371.95\n",
       "12    13362388.58\n",
       "13    27009207.14\n",
       "14    25155535.41\n",
       "15     7955243.07\n",
       "16     6564335.98\n",
       "17    12592400.93\n",
       "18    13896194.65\n",
       "19    18367300.24\n",
       "20    27524197.32\n",
       "21     9294596.35\n",
       "22    13487894.06\n",
       "23    18488882.82\n",
       "24    17684218.91\n",
       "25     9323012.09\n",
       "26    13155335.57\n",
       "27    22744012.75\n",
       "28    16506893.13\n",
       "29     7125307.50\n",
       "30     5742314.29\n",
       "31    18267238.50\n",
       "32    15489271.05\n",
       "33     3549000.39\n",
       "34    12853618.02\n",
       "35    10838313.00\n",
       "36     4151991.58\n",
       "37     6824549.37\n",
       "38     5637918.82\n",
       "39    20214128.46\n",
       "40    12727737.53\n",
       "41    17659942.73\n",
       "42     7568239.27\n",
       "43     8168836.35\n",
       "44     4306405.78\n",
       "45    10390767.83\n",
       "Name: Weekly_Sales, dtype: float64"
      ]
     },
     "metadata": {},
     "output_type": "display_data"
    },
    {
     "data": {
      "text/plain": [
       "Store\n",
       "1     20253947.78\n",
       "2     24303354.86\n",
       "3      5298005.47\n",
       "4     27796792.46\n",
       "5      4163790.99\n",
       "6     20167312.24\n",
       "7      8262787.39\n",
       "8     11748952.70\n",
       "9      7022149.56\n",
       "10    23037258.76\n",
       "11    17516081.44\n",
       "12    12536324.37\n",
       "13    26421259.30\n",
       "14    21187560.65\n",
       "15     7612081.03\n",
       "16     7121541.64\n",
       "17    12459453.05\n",
       "18    13489765.27\n",
       "19    18203554.85\n",
       "20    26891526.98\n",
       "21     9027599.32\n",
       "22    12845139.71\n",
       "23    18641489.15\n",
       "24    17976377.72\n",
       "25     9109081.84\n",
       "26    13675691.91\n",
       "27    22307711.41\n",
       "28    16080704.97\n",
       "29     6671234.14\n",
       "30     5594701.86\n",
       "31    17806714.45\n",
       "32    15396528.95\n",
       "33     3433620.36\n",
       "34    12485995.94\n",
       "35    11322421.12\n",
       "36     3831691.64\n",
       "37     6728068.24\n",
       "38     5605482.38\n",
       "39    20715116.23\n",
       "40    12873195.37\n",
       "41    18093844.01\n",
       "42     7296759.34\n",
       "43     8000572.16\n",
       "44     4411251.16\n",
       "45     9581268.38\n",
       "Name: Weekly_Sales, dtype: float64"
      ]
     },
     "metadata": {},
     "output_type": "display_data"
    }
   ],
   "source": [
    "display(quat2sum) # sum of sales store wise for the 2nd quarter\n",
    "display(quat3sum) # sum of sales store wise for the 3rd quarter"
   ]
  },
  {
   "cell_type": "markdown",
   "metadata": {},
   "source": [
    "\n",
    "\n"
   ]
  },
  {
   "cell_type": "markdown",
   "metadata": {},
   "source": [
    "Q/Q = (Present - previous)/previous"
   ]
  },
  {
   "cell_type": "code",
   "execution_count": 184,
   "metadata": {},
   "outputs": [],
   "source": [
    "Diff= quat3sum - quat2sum"
   ]
  },
  {
   "cell_type": "code",
   "execution_count": 185,
   "metadata": {},
   "outputs": [],
   "source": [
    "Q3growth = Diff/quat2sum"
   ]
  },
  {
   "cell_type": "code",
   "execution_count": 186,
   "metadata": {},
   "outputs": [],
   "source": [
    "# percentage conversion\n",
    "\n",
    "Q3growthrate = Q3growth*100"
   ]
  },
  {
   "cell_type": "code",
   "execution_count": 187,
   "metadata": {},
   "outputs": [
    {
     "data": {
      "text/plain": [
       "Store\n",
       "7     13.330776\n",
       "16     8.488378\n",
       "35     4.466637\n",
       "26     3.955478\n",
       "39     2.478404\n",
       "41     2.456980\n",
       "44     2.434638\n",
       "24     1.652088\n",
       "40     1.142841\n",
       "23     0.825395\n",
       "38    -0.575326\n",
       "32    -0.598751\n",
       "19    -0.891505\n",
       "17    -1.055779\n",
       "37    -1.413736\n",
       "8     -1.431909\n",
       "11    -1.525186\n",
       "27    -1.918313\n",
       "43    -2.059831\n",
       "13    -2.176842\n",
       "25    -2.294647\n",
       "20    -2.298597\n",
       "4     -2.310968\n",
       "31    -2.521038\n",
       "30    -2.570609\n",
       "28    -2.581880\n",
       "34    -2.860067\n",
       "21    -2.872605\n",
       "18    -2.924753\n",
       "10    -3.002523\n",
       "2     -3.110598\n",
       "6     -3.199580\n",
       "33    -3.251057\n",
       "1     -3.454982\n",
       "42    -3.587095\n",
       "15    -4.313659\n",
       "22    -4.765417\n",
       "3     -5.734749\n",
       "12    -6.182010\n",
       "9     -6.182893\n",
       "29    -6.372684\n",
       "5     -6.774475\n",
       "36    -7.714369\n",
       "45    -7.790564\n",
       "14   -15.773764\n",
       "Name: Weekly_Sales, dtype: float64"
      ]
     },
     "execution_count": 187,
     "metadata": {},
     "output_type": "execute_result"
    }
   ],
   "source": [
    "# sorting the values\n",
    "Q3growthrate.sort_values(ascending=False)"
   ]
  },
  {
   "cell_type": "markdown",
   "metadata": {},
   "source": [
    "<font color=purple> **->Store 7 did the best in Q3 2012 with 13% growth from Q2 2012, followed by store 16,35,26,39,41,44,24,40 and 23 , other stores had negative growth rates.** </font> "
   ]
  },
  {
   "cell_type": "markdown",
   "metadata": {},
   "source": [
    "_______________________________________________________"
   ]
  },
  {
   "cell_type": "markdown",
   "metadata": {},
   "source": [
    "## Some holidays have a negative impact on sales. Find out holidays which have higher sales than the mean sales in non-holiday season for all stores together"
   ]
  },
  {
   "cell_type": "code",
   "execution_count": 188,
   "metadata": {},
   "outputs": [
    {
     "data": {
      "text/html": [
       "<div>\n",
       "<style scoped>\n",
       "    .dataframe tbody tr th:only-of-type {\n",
       "        vertical-align: middle;\n",
       "    }\n",
       "\n",
       "    .dataframe tbody tr th {\n",
       "        vertical-align: top;\n",
       "    }\n",
       "\n",
       "    .dataframe thead th {\n",
       "        text-align: right;\n",
       "    }\n",
       "</style>\n",
       "<table border=\"1\" class=\"dataframe\">\n",
       "  <thead>\n",
       "    <tr style=\"text-align: right;\">\n",
       "      <th></th>\n",
       "      <th>Store</th>\n",
       "      <th>Date</th>\n",
       "      <th>Weekly_Sales</th>\n",
       "      <th>Holiday_Flag</th>\n",
       "      <th>Temperature</th>\n",
       "      <th>Fuel_Price</th>\n",
       "      <th>CPI</th>\n",
       "      <th>Unemployment</th>\n",
       "      <th>Month</th>\n",
       "      <th>Year</th>\n",
       "      <th>Quarter</th>\n",
       "    </tr>\n",
       "  </thead>\n",
       "  <tbody>\n",
       "    <tr>\n",
       "      <th>0</th>\n",
       "      <td>1</td>\n",
       "      <td>2010-02-05</td>\n",
       "      <td>1643690.90</td>\n",
       "      <td>0</td>\n",
       "      <td>42.31</td>\n",
       "      <td>2.572</td>\n",
       "      <td>211.096358</td>\n",
       "      <td>8.106</td>\n",
       "      <td>2</td>\n",
       "      <td>2010</td>\n",
       "      <td>1</td>\n",
       "    </tr>\n",
       "    <tr>\n",
       "      <th>1</th>\n",
       "      <td>1</td>\n",
       "      <td>2010-02-12</td>\n",
       "      <td>1641957.44</td>\n",
       "      <td>1</td>\n",
       "      <td>38.51</td>\n",
       "      <td>2.548</td>\n",
       "      <td>211.242170</td>\n",
       "      <td>8.106</td>\n",
       "      <td>2</td>\n",
       "      <td>2010</td>\n",
       "      <td>1</td>\n",
       "    </tr>\n",
       "    <tr>\n",
       "      <th>2</th>\n",
       "      <td>1</td>\n",
       "      <td>2010-02-19</td>\n",
       "      <td>1611968.17</td>\n",
       "      <td>0</td>\n",
       "      <td>39.93</td>\n",
       "      <td>2.514</td>\n",
       "      <td>211.289143</td>\n",
       "      <td>8.106</td>\n",
       "      <td>2</td>\n",
       "      <td>2010</td>\n",
       "      <td>1</td>\n",
       "    </tr>\n",
       "  </tbody>\n",
       "</table>\n",
       "</div>"
      ],
      "text/plain": [
       "   Store       Date  Weekly_Sales  Holiday_Flag  Temperature  Fuel_Price  \\\n",
       "0      1 2010-02-05    1643690.90             0        42.31       2.572   \n",
       "1      1 2010-02-12    1641957.44             1        38.51       2.548   \n",
       "2      1 2010-02-19    1611968.17             0        39.93       2.514   \n",
       "\n",
       "          CPI  Unemployment  Month  Year  Quarter  \n",
       "0  211.096358         8.106      2  2010        1  \n",
       "1  211.242170         8.106      2  2010        1  \n",
       "2  211.289143         8.106      2  2010        1  "
      ]
     },
     "execution_count": 188,
     "metadata": {},
     "output_type": "execute_result"
    }
   ],
   "source": [
    "Walmart.head(3)"
   ]
  },
  {
   "cell_type": "code",
   "execution_count": 189,
   "metadata": {},
   "outputs": [],
   "source": [
    "nonholiday = Walmart.loc[Walmart.Holiday_Flag == 0, [\"Store\",\"Weekly_Sales\"]]"
   ]
  },
  {
   "cell_type": "code",
   "execution_count": 190,
   "metadata": {},
   "outputs": [
    {
     "data": {
      "text/html": [
       "<div>\n",
       "<style scoped>\n",
       "    .dataframe tbody tr th:only-of-type {\n",
       "        vertical-align: middle;\n",
       "    }\n",
       "\n",
       "    .dataframe tbody tr th {\n",
       "        vertical-align: top;\n",
       "    }\n",
       "\n",
       "    .dataframe thead th {\n",
       "        text-align: right;\n",
       "    }\n",
       "</style>\n",
       "<table border=\"1\" class=\"dataframe\">\n",
       "  <thead>\n",
       "    <tr style=\"text-align: right;\">\n",
       "      <th></th>\n",
       "      <th>Store</th>\n",
       "      <th>Weekly_Sales</th>\n",
       "    </tr>\n",
       "  </thead>\n",
       "  <tbody>\n",
       "    <tr>\n",
       "      <th>0</th>\n",
       "      <td>1</td>\n",
       "      <td>1643690.90</td>\n",
       "    </tr>\n",
       "    <tr>\n",
       "      <th>2</th>\n",
       "      <td>1</td>\n",
       "      <td>1611968.17</td>\n",
       "    </tr>\n",
       "    <tr>\n",
       "      <th>3</th>\n",
       "      <td>1</td>\n",
       "      <td>1409727.59</td>\n",
       "    </tr>\n",
       "    <tr>\n",
       "      <th>4</th>\n",
       "      <td>1</td>\n",
       "      <td>1554806.68</td>\n",
       "    </tr>\n",
       "    <tr>\n",
       "      <th>5</th>\n",
       "      <td>1</td>\n",
       "      <td>1439541.59</td>\n",
       "    </tr>\n",
       "    <tr>\n",
       "      <th>...</th>\n",
       "      <td>...</td>\n",
       "      <td>...</td>\n",
       "    </tr>\n",
       "    <tr>\n",
       "      <th>6430</th>\n",
       "      <td>45</td>\n",
       "      <td>713173.95</td>\n",
       "    </tr>\n",
       "    <tr>\n",
       "      <th>6431</th>\n",
       "      <td>45</td>\n",
       "      <td>733455.07</td>\n",
       "    </tr>\n",
       "    <tr>\n",
       "      <th>6432</th>\n",
       "      <td>45</td>\n",
       "      <td>734464.36</td>\n",
       "    </tr>\n",
       "    <tr>\n",
       "      <th>6433</th>\n",
       "      <td>45</td>\n",
       "      <td>718125.53</td>\n",
       "    </tr>\n",
       "    <tr>\n",
       "      <th>6434</th>\n",
       "      <td>45</td>\n",
       "      <td>760281.43</td>\n",
       "    </tr>\n",
       "  </tbody>\n",
       "</table>\n",
       "<p>5985 rows × 2 columns</p>\n",
       "</div>"
      ],
      "text/plain": [
       "      Store  Weekly_Sales\n",
       "0         1    1643690.90\n",
       "2         1    1611968.17\n",
       "3         1    1409727.59\n",
       "4         1    1554806.68\n",
       "5         1    1439541.59\n",
       "...     ...           ...\n",
       "6430     45     713173.95\n",
       "6431     45     733455.07\n",
       "6432     45     734464.36\n",
       "6433     45     718125.53\n",
       "6434     45     760281.43\n",
       "\n",
       "[5985 rows x 2 columns]"
      ]
     },
     "execution_count": 190,
     "metadata": {},
     "output_type": "execute_result"
    }
   ],
   "source": [
    "#non holiday sales\n",
    "nonholiday"
   ]
  },
  {
   "cell_type": "code",
   "execution_count": 191,
   "metadata": {},
   "outputs": [
    {
     "name": "stdout",
     "output_type": "stream",
     "text": [
      "Mean sales of all stores together in non-holiday season : 1041256.3802088564 \n"
     ]
    }
   ],
   "source": [
    "val=nonholiday.Weekly_Sales.mean()\n",
    "print(\"Mean sales of all stores together in non-holiday season : {} \".format(val))"
   ]
  },
  {
   "cell_type": "code",
   "execution_count": 192,
   "metadata": {},
   "outputs": [],
   "source": [
    "holiday = Walmart.loc[Walmart.Holiday_Flag == 1, [\"Store\",\"Weekly_Sales\",\"Date\"]]"
   ]
  },
  {
   "cell_type": "code",
   "execution_count": 193,
   "metadata": {},
   "outputs": [
    {
     "data": {
      "text/html": [
       "<div>\n",
       "<style scoped>\n",
       "    .dataframe tbody tr th:only-of-type {\n",
       "        vertical-align: middle;\n",
       "    }\n",
       "\n",
       "    .dataframe tbody tr th {\n",
       "        vertical-align: top;\n",
       "    }\n",
       "\n",
       "    .dataframe thead th {\n",
       "        text-align: right;\n",
       "    }\n",
       "</style>\n",
       "<table border=\"1\" class=\"dataframe\">\n",
       "  <thead>\n",
       "    <tr style=\"text-align: right;\">\n",
       "      <th></th>\n",
       "      <th>Store</th>\n",
       "      <th>Weekly_Sales</th>\n",
       "      <th>Date</th>\n",
       "    </tr>\n",
       "  </thead>\n",
       "  <tbody>\n",
       "    <tr>\n",
       "      <th>1</th>\n",
       "      <td>1</td>\n",
       "      <td>1641957.44</td>\n",
       "      <td>2010-02-12</td>\n",
       "    </tr>\n",
       "    <tr>\n",
       "      <th>31</th>\n",
       "      <td>1</td>\n",
       "      <td>1507460.69</td>\n",
       "      <td>2010-09-10</td>\n",
       "    </tr>\n",
       "    <tr>\n",
       "      <th>42</th>\n",
       "      <td>1</td>\n",
       "      <td>1955624.11</td>\n",
       "      <td>2010-11-26</td>\n",
       "    </tr>\n",
       "    <tr>\n",
       "      <th>47</th>\n",
       "      <td>1</td>\n",
       "      <td>1367320.01</td>\n",
       "      <td>2010-12-31</td>\n",
       "    </tr>\n",
       "    <tr>\n",
       "      <th>53</th>\n",
       "      <td>1</td>\n",
       "      <td>1649614.93</td>\n",
       "      <td>2011-02-11</td>\n",
       "    </tr>\n",
       "  </tbody>\n",
       "</table>\n",
       "</div>"
      ],
      "text/plain": [
       "    Store  Weekly_Sales       Date\n",
       "1       1    1641957.44 2010-02-12\n",
       "31      1    1507460.69 2010-09-10\n",
       "42      1    1955624.11 2010-11-26\n",
       "47      1    1367320.01 2010-12-31\n",
       "53      1    1649614.93 2011-02-11"
      ]
     },
     "execution_count": 193,
     "metadata": {},
     "output_type": "execute_result"
    }
   ],
   "source": [
    "# sales during holiday\n",
    "holiday.head(5)"
   ]
  },
  {
   "cell_type": "code",
   "execution_count": 194,
   "metadata": {},
   "outputs": [],
   "source": [
    "# stores having holiday sales greater than mean sales of non holiday sales\n",
    "\n",
    "bestsales=holiday.loc[holiday.Weekly_Sales>val,[\"Store\",\"Date\",\"Weekly_Sales\"]]"
   ]
  },
  {
   "cell_type": "code",
   "execution_count": 195,
   "metadata": {},
   "outputs": [
    {
     "data": {
      "text/html": [
       "<div>\n",
       "<style scoped>\n",
       "    .dataframe tbody tr th:only-of-type {\n",
       "        vertical-align: middle;\n",
       "    }\n",
       "\n",
       "    .dataframe tbody tr th {\n",
       "        vertical-align: top;\n",
       "    }\n",
       "\n",
       "    .dataframe thead th {\n",
       "        text-align: right;\n",
       "    }\n",
       "</style>\n",
       "<table border=\"1\" class=\"dataframe\">\n",
       "  <thead>\n",
       "    <tr style=\"text-align: right;\">\n",
       "      <th></th>\n",
       "      <th>Store</th>\n",
       "      <th>Date</th>\n",
       "      <th>Weekly_Sales</th>\n",
       "    </tr>\n",
       "  </thead>\n",
       "  <tbody>\n",
       "    <tr>\n",
       "      <th>1</th>\n",
       "      <td>1</td>\n",
       "      <td>2010-02-12</td>\n",
       "      <td>1641957.44</td>\n",
       "    </tr>\n",
       "    <tr>\n",
       "      <th>31</th>\n",
       "      <td>1</td>\n",
       "      <td>2010-09-10</td>\n",
       "      <td>1507460.69</td>\n",
       "    </tr>\n",
       "    <tr>\n",
       "      <th>42</th>\n",
       "      <td>1</td>\n",
       "      <td>2010-11-26</td>\n",
       "      <td>1955624.11</td>\n",
       "    </tr>\n",
       "    <tr>\n",
       "      <th>47</th>\n",
       "      <td>1</td>\n",
       "      <td>2010-12-31</td>\n",
       "      <td>1367320.01</td>\n",
       "    </tr>\n",
       "    <tr>\n",
       "      <th>53</th>\n",
       "      <td>1</td>\n",
       "      <td>2011-02-11</td>\n",
       "      <td>1649614.93</td>\n",
       "    </tr>\n",
       "  </tbody>\n",
       "</table>\n",
       "</div>"
      ],
      "text/plain": [
       "    Store       Date  Weekly_Sales\n",
       "1       1 2010-02-12    1641957.44\n",
       "31      1 2010-09-10    1507460.69\n",
       "42      1 2010-11-26    1955624.11\n",
       "47      1 2010-12-31    1367320.01\n",
       "53      1 2011-02-11    1649614.93"
      ]
     },
     "execution_count": 195,
     "metadata": {},
     "output_type": "execute_result"
    }
   ],
   "source": [
    "bestsales.head()"
   ]
  },
  {
   "cell_type": "code",
   "execution_count": 196,
   "metadata": {},
   "outputs": [
    {
     "data": {
      "text/html": [
       "<div>\n",
       "<style scoped>\n",
       "    .dataframe tbody tr th:only-of-type {\n",
       "        vertical-align: middle;\n",
       "    }\n",
       "\n",
       "    .dataframe tbody tr th {\n",
       "        vertical-align: top;\n",
       "    }\n",
       "\n",
       "    .dataframe thead th {\n",
       "        text-align: right;\n",
       "    }\n",
       "</style>\n",
       "<table border=\"1\" class=\"dataframe\">\n",
       "  <thead>\n",
       "    <tr style=\"text-align: right;\">\n",
       "      <th></th>\n",
       "      <th>Store</th>\n",
       "      <th>Date</th>\n",
       "      <th>Weekly_Sales</th>\n",
       "    </tr>\n",
       "  </thead>\n",
       "  <tbody>\n",
       "    <tr>\n",
       "      <th>523</th>\n",
       "      <td>4</td>\n",
       "      <td>2011-11-25</td>\n",
       "      <td>3004702.33</td>\n",
       "    </tr>\n",
       "    <tr>\n",
       "      <th>1381</th>\n",
       "      <td>10</td>\n",
       "      <td>2011-11-25</td>\n",
       "      <td>2950198.64</td>\n",
       "    </tr>\n",
       "    <tr>\n",
       "      <th>1329</th>\n",
       "      <td>10</td>\n",
       "      <td>2010-11-26</td>\n",
       "      <td>2939946.38</td>\n",
       "    </tr>\n",
       "    <tr>\n",
       "      <th>1901</th>\n",
       "      <td>14</td>\n",
       "      <td>2010-11-26</td>\n",
       "      <td>2921709.71</td>\n",
       "    </tr>\n",
       "    <tr>\n",
       "      <th>2811</th>\n",
       "      <td>20</td>\n",
       "      <td>2011-11-25</td>\n",
       "      <td>2906233.25</td>\n",
       "    </tr>\n",
       "    <tr>\n",
       "      <th>...</th>\n",
       "      <td>...</td>\n",
       "      <td>...</td>\n",
       "      <td>...</td>\n",
       "    </tr>\n",
       "    <tr>\n",
       "      <th>5721</th>\n",
       "      <td>41</td>\n",
       "      <td>2010-02-12</td>\n",
       "      <td>1075656.34</td>\n",
       "    </tr>\n",
       "    <tr>\n",
       "      <th>3658</th>\n",
       "      <td>26</td>\n",
       "      <td>2011-09-09</td>\n",
       "      <td>1069710.97</td>\n",
       "    </tr>\n",
       "    <tr>\n",
       "      <th>2096</th>\n",
       "      <td>15</td>\n",
       "      <td>2011-11-25</td>\n",
       "      <td>1066478.10</td>\n",
       "    </tr>\n",
       "    <tr>\n",
       "      <th>4824</th>\n",
       "      <td>34</td>\n",
       "      <td>2012-02-10</td>\n",
       "      <td>1047658.09</td>\n",
       "    </tr>\n",
       "    <tr>\n",
       "      <th>3606</th>\n",
       "      <td>26</td>\n",
       "      <td>2010-09-10</td>\n",
       "      <td>1042226.30</td>\n",
       "    </tr>\n",
       "  </tbody>\n",
       "</table>\n",
       "<p>220 rows × 3 columns</p>\n",
       "</div>"
      ],
      "text/plain": [
       "      Store       Date  Weekly_Sales\n",
       "523       4 2011-11-25    3004702.33\n",
       "1381     10 2011-11-25    2950198.64\n",
       "1329     10 2010-11-26    2939946.38\n",
       "1901     14 2010-11-26    2921709.71\n",
       "2811     20 2011-11-25    2906233.25\n",
       "...     ...        ...           ...\n",
       "5721     41 2010-02-12    1075656.34\n",
       "3658     26 2011-09-09    1069710.97\n",
       "2096     15 2011-11-25    1066478.10\n",
       "4824     34 2012-02-10    1047658.09\n",
       "3606     26 2010-09-10    1042226.30\n",
       "\n",
       "[220 rows x 3 columns]"
      ]
     },
     "execution_count": 196,
     "metadata": {},
     "output_type": "execute_result"
    }
   ],
   "source": [
    "bestholidaysales = bestsales.sort_values(ascending=False,by=\"Weekly_Sales\")\n",
    "bestholidaysales"
   ]
  },
  {
   "cell_type": "code",
   "execution_count": 199,
   "metadata": {},
   "outputs": [],
   "source": [
    "#exporting best holiday sales for respective stores to a excel file.\n",
    "\n",
    "bestholidaysales.to_excel(\"BestHoliday.xlsx\")"
   ]
  },
  {
   "cell_type": "code",
   "execution_count": 200,
   "metadata": {},
   "outputs": [
    {
     "data": {
      "text/html": [
       "<div>\n",
       "<style scoped>\n",
       "    .dataframe tbody tr th:only-of-type {\n",
       "        vertical-align: middle;\n",
       "    }\n",
       "\n",
       "    .dataframe tbody tr th {\n",
       "        vertical-align: top;\n",
       "    }\n",
       "\n",
       "    .dataframe thead th {\n",
       "        text-align: right;\n",
       "    }\n",
       "</style>\n",
       "<table border=\"1\" class=\"dataframe\">\n",
       "  <thead>\n",
       "    <tr style=\"text-align: right;\">\n",
       "      <th></th>\n",
       "      <th>Store</th>\n",
       "      <th>Date</th>\n",
       "      <th>Weekly_Sales</th>\n",
       "    </tr>\n",
       "  </thead>\n",
       "  <tbody>\n",
       "    <tr>\n",
       "      <th>523</th>\n",
       "      <td>4</td>\n",
       "      <td>2011-11-25</td>\n",
       "      <td>3004702.33</td>\n",
       "    </tr>\n",
       "    <tr>\n",
       "      <th>1381</th>\n",
       "      <td>10</td>\n",
       "      <td>2011-11-25</td>\n",
       "      <td>2950198.64</td>\n",
       "    </tr>\n",
       "    <tr>\n",
       "      <th>1329</th>\n",
       "      <td>10</td>\n",
       "      <td>2010-11-26</td>\n",
       "      <td>2939946.38</td>\n",
       "    </tr>\n",
       "    <tr>\n",
       "      <th>1901</th>\n",
       "      <td>14</td>\n",
       "      <td>2010-11-26</td>\n",
       "      <td>2921709.71</td>\n",
       "    </tr>\n",
       "    <tr>\n",
       "      <th>2811</th>\n",
       "      <td>20</td>\n",
       "      <td>2011-11-25</td>\n",
       "      <td>2906233.25</td>\n",
       "    </tr>\n",
       "    <tr>\n",
       "      <th>1810</th>\n",
       "      <td>13</td>\n",
       "      <td>2011-11-25</td>\n",
       "      <td>2864170.61</td>\n",
       "    </tr>\n",
       "    <tr>\n",
       "      <th>2759</th>\n",
       "      <td>20</td>\n",
       "      <td>2010-11-26</td>\n",
       "      <td>2811634.04</td>\n",
       "    </tr>\n",
       "    <tr>\n",
       "      <th>471</th>\n",
       "      <td>4</td>\n",
       "      <td>2010-11-26</td>\n",
       "      <td>2789469.45</td>\n",
       "    </tr>\n",
       "    <tr>\n",
       "      <th>1758</th>\n",
       "      <td>13</td>\n",
       "      <td>2010-11-26</td>\n",
       "      <td>2766400.05</td>\n",
       "    </tr>\n",
       "    <tr>\n",
       "      <th>1953</th>\n",
       "      <td>14</td>\n",
       "      <td>2011-11-25</td>\n",
       "      <td>2685351.81</td>\n",
       "    </tr>\n",
       "  </tbody>\n",
       "</table>\n",
       "</div>"
      ],
      "text/plain": [
       "      Store       Date  Weekly_Sales\n",
       "523       4 2011-11-25    3004702.33\n",
       "1381     10 2011-11-25    2950198.64\n",
       "1329     10 2010-11-26    2939946.38\n",
       "1901     14 2010-11-26    2921709.71\n",
       "2811     20 2011-11-25    2906233.25\n",
       "1810     13 2011-11-25    2864170.61\n",
       "2759     20 2010-11-26    2811634.04\n",
       "471       4 2010-11-26    2789469.45\n",
       "1758     13 2010-11-26    2766400.05\n",
       "1953     14 2011-11-25    2685351.81"
      ]
     },
     "execution_count": 200,
     "metadata": {},
     "output_type": "execute_result"
    }
   ],
   "source": [
    "bestholidaysales.head(10)"
   ]
  },
  {
   "cell_type": "markdown",
   "metadata": {},
   "source": [
    "<font color=purple> **->Clearly top 10 holiday sales which have higher sales than the mean sales in non-holiday season for all stores together is during THANKSGIVING.** </font>"
   ]
  },
  {
   "cell_type": "markdown",
   "metadata": {},
   "source": [
    "______________________________________"
   ]
  },
  {
   "cell_type": "markdown",
   "metadata": {},
   "source": [
    "##  Provide a monthly and semester view of sales in units and give insights\n"
   ]
  },
  {
   "cell_type": "code",
   "execution_count": 201,
   "metadata": {},
   "outputs": [],
   "source": [
    "#creating a yearwise data \n",
    "year2010 = Walmart.loc[Walmart.Year == 2010, [\"Store\",\"Weekly_Sales\",\"Month\",\"Quarter\"]]\n",
    "year2011 = Walmart.loc[Walmart.Year == 2011, [\"Store\",\"Weekly_Sales\",\"Month\",\"Quarter\"]]\n",
    "year2012 = Walmart.loc[Walmart.Year == 2012, [\"Store\",\"Weekly_Sales\",\"Month\",\"Quarter\"]]"
   ]
  },
  {
   "cell_type": "code",
   "execution_count": 202,
   "metadata": {},
   "outputs": [
    {
     "data": {
      "text/html": [
       "<div>\n",
       "<style scoped>\n",
       "    .dataframe tbody tr th:only-of-type {\n",
       "        vertical-align: middle;\n",
       "    }\n",
       "\n",
       "    .dataframe tbody tr th {\n",
       "        vertical-align: top;\n",
       "    }\n",
       "\n",
       "    .dataframe thead th {\n",
       "        text-align: right;\n",
       "    }\n",
       "</style>\n",
       "<table border=\"1\" class=\"dataframe\">\n",
       "  <thead>\n",
       "    <tr style=\"text-align: right;\">\n",
       "      <th></th>\n",
       "      <th>Store</th>\n",
       "      <th>Weekly_Sales</th>\n",
       "      <th>Month</th>\n",
       "      <th>Quarter</th>\n",
       "    </tr>\n",
       "  </thead>\n",
       "  <tbody>\n",
       "    <tr>\n",
       "      <th>0</th>\n",
       "      <td>1</td>\n",
       "      <td>1643690.90</td>\n",
       "      <td>2</td>\n",
       "      <td>1</td>\n",
       "    </tr>\n",
       "    <tr>\n",
       "      <th>1</th>\n",
       "      <td>1</td>\n",
       "      <td>1641957.44</td>\n",
       "      <td>2</td>\n",
       "      <td>1</td>\n",
       "    </tr>\n",
       "    <tr>\n",
       "      <th>2</th>\n",
       "      <td>1</td>\n",
       "      <td>1611968.17</td>\n",
       "      <td>2</td>\n",
       "      <td>1</td>\n",
       "    </tr>\n",
       "    <tr>\n",
       "      <th>3</th>\n",
       "      <td>1</td>\n",
       "      <td>1409727.59</td>\n",
       "      <td>2</td>\n",
       "      <td>1</td>\n",
       "    </tr>\n",
       "    <tr>\n",
       "      <th>4</th>\n",
       "      <td>1</td>\n",
       "      <td>1554806.68</td>\n",
       "      <td>3</td>\n",
       "      <td>1</td>\n",
       "    </tr>\n",
       "  </tbody>\n",
       "</table>\n",
       "</div>"
      ],
      "text/plain": [
       "   Store  Weekly_Sales  Month  Quarter\n",
       "0      1    1643690.90      2        1\n",
       "1      1    1641957.44      2        1\n",
       "2      1    1611968.17      2        1\n",
       "3      1    1409727.59      2        1\n",
       "4      1    1554806.68      3        1"
      ]
     },
     "metadata": {},
     "output_type": "display_data"
    },
    {
     "data": {
      "text/html": [
       "<div>\n",
       "<style scoped>\n",
       "    .dataframe tbody tr th:only-of-type {\n",
       "        vertical-align: middle;\n",
       "    }\n",
       "\n",
       "    .dataframe tbody tr th {\n",
       "        vertical-align: top;\n",
       "    }\n",
       "\n",
       "    .dataframe thead th {\n",
       "        text-align: right;\n",
       "    }\n",
       "</style>\n",
       "<table border=\"1\" class=\"dataframe\">\n",
       "  <thead>\n",
       "    <tr style=\"text-align: right;\">\n",
       "      <th></th>\n",
       "      <th>Store</th>\n",
       "      <th>Weekly_Sales</th>\n",
       "      <th>Month</th>\n",
       "      <th>Quarter</th>\n",
       "    </tr>\n",
       "  </thead>\n",
       "  <tbody>\n",
       "    <tr>\n",
       "      <th>48</th>\n",
       "      <td>1</td>\n",
       "      <td>1444732.28</td>\n",
       "      <td>1</td>\n",
       "      <td>1</td>\n",
       "    </tr>\n",
       "    <tr>\n",
       "      <th>49</th>\n",
       "      <td>1</td>\n",
       "      <td>1391013.96</td>\n",
       "      <td>1</td>\n",
       "      <td>1</td>\n",
       "    </tr>\n",
       "    <tr>\n",
       "      <th>50</th>\n",
       "      <td>1</td>\n",
       "      <td>1327405.42</td>\n",
       "      <td>1</td>\n",
       "      <td>1</td>\n",
       "    </tr>\n",
       "    <tr>\n",
       "      <th>51</th>\n",
       "      <td>1</td>\n",
       "      <td>1316899.31</td>\n",
       "      <td>1</td>\n",
       "      <td>1</td>\n",
       "    </tr>\n",
       "    <tr>\n",
       "      <th>52</th>\n",
       "      <td>1</td>\n",
       "      <td>1606629.58</td>\n",
       "      <td>2</td>\n",
       "      <td>1</td>\n",
       "    </tr>\n",
       "  </tbody>\n",
       "</table>\n",
       "</div>"
      ],
      "text/plain": [
       "    Store  Weekly_Sales  Month  Quarter\n",
       "48      1    1444732.28      1        1\n",
       "49      1    1391013.96      1        1\n",
       "50      1    1327405.42      1        1\n",
       "51      1    1316899.31      1        1\n",
       "52      1    1606629.58      2        1"
      ]
     },
     "metadata": {},
     "output_type": "display_data"
    },
    {
     "data": {
      "text/html": [
       "<div>\n",
       "<style scoped>\n",
       "    .dataframe tbody tr th:only-of-type {\n",
       "        vertical-align: middle;\n",
       "    }\n",
       "\n",
       "    .dataframe tbody tr th {\n",
       "        vertical-align: top;\n",
       "    }\n",
       "\n",
       "    .dataframe thead th {\n",
       "        text-align: right;\n",
       "    }\n",
       "</style>\n",
       "<table border=\"1\" class=\"dataframe\">\n",
       "  <thead>\n",
       "    <tr style=\"text-align: right;\">\n",
       "      <th></th>\n",
       "      <th>Store</th>\n",
       "      <th>Weekly_Sales</th>\n",
       "      <th>Month</th>\n",
       "      <th>Quarter</th>\n",
       "    </tr>\n",
       "  </thead>\n",
       "  <tbody>\n",
       "    <tr>\n",
       "      <th>100</th>\n",
       "      <td>1</td>\n",
       "      <td>1550369.92</td>\n",
       "      <td>1</td>\n",
       "      <td>1</td>\n",
       "    </tr>\n",
       "    <tr>\n",
       "      <th>101</th>\n",
       "      <td>1</td>\n",
       "      <td>1459601.17</td>\n",
       "      <td>1</td>\n",
       "      <td>1</td>\n",
       "    </tr>\n",
       "    <tr>\n",
       "      <th>102</th>\n",
       "      <td>1</td>\n",
       "      <td>1394393.84</td>\n",
       "      <td>1</td>\n",
       "      <td>1</td>\n",
       "    </tr>\n",
       "    <tr>\n",
       "      <th>103</th>\n",
       "      <td>1</td>\n",
       "      <td>1319325.59</td>\n",
       "      <td>1</td>\n",
       "      <td>1</td>\n",
       "    </tr>\n",
       "    <tr>\n",
       "      <th>104</th>\n",
       "      <td>1</td>\n",
       "      <td>1636339.65</td>\n",
       "      <td>2</td>\n",
       "      <td>1</td>\n",
       "    </tr>\n",
       "  </tbody>\n",
       "</table>\n",
       "</div>"
      ],
      "text/plain": [
       "     Store  Weekly_Sales  Month  Quarter\n",
       "100      1    1550369.92      1        1\n",
       "101      1    1459601.17      1        1\n",
       "102      1    1394393.84      1        1\n",
       "103      1    1319325.59      1        1\n",
       "104      1    1636339.65      2        1"
      ]
     },
     "metadata": {},
     "output_type": "display_data"
    }
   ],
   "source": [
    "display(year2010.head(5))\n",
    "display(year2011.head(5))\n",
    "display(year2012.head(5))"
   ]
  },
  {
   "cell_type": "markdown",
   "metadata": {},
   "source": [
    "<font color=green> **2010 analysis** </font>"
   ]
  },
  {
   "cell_type": "code",
   "execution_count": 203,
   "metadata": {},
   "outputs": [
    {
     "name": "stdout",
     "output_type": "stream",
     "text": [
      "<class 'pandas.core.frame.DataFrame'>\n",
      "Int64Index: 2160 entries, 0 to 6339\n",
      "Data columns (total 4 columns):\n",
      " #   Column        Non-Null Count  Dtype  \n",
      "---  ------        --------------  -----  \n",
      " 0   Store         2160 non-null   int64  \n",
      " 1   Weekly_Sales  2160 non-null   float64\n",
      " 2   Month         2160 non-null   int64  \n",
      " 3   Quarter       2160 non-null   int64  \n",
      "dtypes: float64(1), int64(3)\n",
      "memory usage: 84.4 KB\n"
     ]
    }
   ],
   "source": [
    "year2010.info()"
   ]
  },
  {
   "cell_type": "code",
   "execution_count": 204,
   "metadata": {},
   "outputs": [
    {
     "data": {
      "text/plain": [
       "Month\n",
       "12    1.283380e+06\n",
       "11    1.126963e+06\n",
       "6     1.068034e+06\n",
       "2     1.057405e+06\n",
       "8     1.042445e+06\n",
       "5     1.037283e+06\n",
       "7     1.033689e+06\n",
       "4     1.028499e+06\n",
       "3     1.010666e+06\n",
       "9     9.848216e+05\n",
       "10    9.651637e+05\n",
       "Name: Weekly_Sales, dtype: float64"
      ]
     },
     "execution_count": 204,
     "metadata": {},
     "output_type": "execute_result"
    }
   ],
   "source": [
    "# mean monthly sales for the year 2010\n",
    "# we do not have January data for the year 2010\n",
    "\n",
    "year2010.groupby(\"Month\")[\"Weekly_Sales\"].mean().sort_values(ascending=False)"
   ]
  },
  {
   "cell_type": "code",
   "execution_count": 205,
   "metadata": {},
   "outputs": [
    {
     "data": {
      "text/plain": [
       "Month  Store\n",
       "12     20       2.710758e+06\n",
       "       14       2.612855e+06\n",
       "       10       2.586200e+06\n",
       "       13       2.517538e+06\n",
       "       4        2.493335e+06\n",
       "       2        2.438023e+06\n",
       "11     20       2.322194e+06\n",
       "6      14       2.276999e+06\n",
       "11     14       2.265195e+06\n",
       "       4        2.225047e+06\n",
       "4      14       2.219340e+06\n",
       "5      14       2.208807e+06\n",
       "12     27       2.178660e+06\n",
       "7      14       2.160057e+06\n",
       "2      14       2.156959e+06\n",
       "11     10       2.154309e+06\n",
       "2      20       2.142562e+06\n",
       "3      14       2.127549e+06\n",
       "2      10       2.122321e+06\n",
       "11     13       2.121682e+06\n",
       "Name: Weekly_Sales, dtype: float64"
      ]
     },
     "execution_count": 205,
     "metadata": {},
     "output_type": "execute_result"
    }
   ],
   "source": [
    "#Top months and stores based on thier sales\n",
    "\n",
    "monthlysummary2010 =year2010.groupby([\"Month\",\"Store\"])[\"Weekly_Sales\"].mean().sort_values(ascending=False)\n",
    "monthlysummary2010.head(20)"
   ]
  },
  {
   "cell_type": "code",
   "execution_count": 206,
   "metadata": {},
   "outputs": [
    {
     "data": {
      "text/plain": [
       "<AxesSubplot:xlabel='Month', ylabel='Weekly_Sales'>"
      ]
     },
     "execution_count": 206,
     "metadata": {},
     "output_type": "execute_result"
    },
    {
     "data": {
      "image/png": "[encoded data removed]",
      "text/plain": [
       "<Figure size 432x288 with 1 Axes>"
      ]
     },
     "metadata": {
      "needs_background": "light"
     },
     "output_type": "display_data"
    }
   ],
   "source": [
    "sns.barplot(x=year2010.Month,y=year2010.Weekly_Sales)"
   ]
  },
  {
   "cell_type": "code",
   "execution_count": 207,
   "metadata": {},
   "outputs": [
    {
     "data": {
      "text/plain": [
       "Quarter\n",
       "4    1.125041e+06\n",
       "2    1.043367e+06\n",
       "1    1.034036e+06\n",
       "3    1.021347e+06\n",
       "Name: Weekly_Sales, dtype: float64"
      ]
     },
     "execution_count": 207,
     "metadata": {},
     "output_type": "execute_result"
    }
   ],
   "source": [
    "year2010.groupby(\"Quarter\")[\"Weekly_Sales\"].mean().sort_values(ascending=False)"
   ]
  },
  {
   "cell_type": "code",
   "execution_count": 208,
   "metadata": {},
   "outputs": [
    {
     "data": {
      "text/plain": [
       "<AxesSubplot:xlabel='Quarter', ylabel='Weekly_Sales'>"
      ]
     },
     "execution_count": 208,
     "metadata": {},
     "output_type": "execute_result"
    },
    {
     "data": {
      "image/png": "[encoded data removed]",
      "text/plain": [
       "<Figure size 432x288 with 1 Axes>"
      ]
     },
     "metadata": {
      "needs_background": "light"
     },
     "output_type": "display_data"
    }
   ],
   "source": [
    "sns.barplot(x=year2010.Quarter,y=year2010.Weekly_Sales)"
   ]
  },
  {
   "cell_type": "markdown",
   "metadata": {},
   "source": [
    "<font color=purple> **->In 2010, Sales are better during end of the year, we see Dec tops the sales followed by Nov which is why 4th Quarter has better sales, store wise we see sales of  store 20 in Dec has the higest sales of the year.** </font>"
   ]
  },
  {
   "cell_type": "markdown",
   "metadata": {},
   "source": [
    "\n",
    "\n",
    "\n",
    "\n"
   ]
  },
  {
   "cell_type": "markdown",
   "metadata": {},
   "source": [
    "<font color=green> **2011 analysis** </font>"
   ]
  },
  {
   "cell_type": "code",
   "execution_count": 209,
   "metadata": {},
   "outputs": [
    {
     "data": {
      "text/plain": [
       "Month\n",
       "12    1.280347e+06\n",
       "11    1.167569e+06\n",
       "6     1.054297e+06\n",
       "8     1.047774e+06\n",
       "2     1.035174e+06\n",
       "7     1.021828e+06\n",
       "10    1.018118e+06\n",
       "5     1.009156e+06\n",
       "4     1.006784e+06\n",
       "3     9.964247e+05\n",
       "9     9.815455e+05\n",
       "1     9.094665e+05\n",
       "Name: Weekly_Sales, dtype: float64"
      ]
     },
     "execution_count": 209,
     "metadata": {},
     "output_type": "execute_result"
    }
   ],
   "source": [
    "year2011.groupby(\"Month\")[\"Weekly_Sales\"].mean().sort_values(ascending=False)"
   ]
  },
  {
   "cell_type": "code",
   "execution_count": 210,
   "metadata": {},
   "outputs": [
    {
     "data": {
      "text/plain": [
       "Month  Store\n",
       "12     20       2.641267e+06\n",
       "       4        2.628969e+06\n",
       "       13       2.560053e+06\n",
       "       14       2.498249e+06\n",
       "       10       2.494223e+06\n",
       "11     4        2.433224e+06\n",
       "       20       2.407562e+06\n",
       "12     2        2.355367e+06\n",
       "11     13       2.257101e+06\n",
       "       14       2.227576e+06\n",
       "       10       2.200074e+06\n",
       "2      20       2.189939e+06\n",
       "       4        2.175381e+06\n",
       "10     4        2.150172e+06\n",
       "8      4        2.121777e+06\n",
       "11     2        2.099349e+06\n",
       "6      14       2.090988e+06\n",
       "12     27       2.083427e+06\n",
       "6      20       2.083332e+06\n",
       "10     20       2.078938e+06\n",
       "Name: Weekly_Sales, dtype: float64"
      ]
     },
     "execution_count": 210,
     "metadata": {},
     "output_type": "execute_result"
    }
   ],
   "source": [
    "monthlysummary2011 =year2011.groupby([\"Month\",\"Store\"])[\"Weekly_Sales\"].mean().sort_values(ascending=False)\n",
    "monthlysummary2011.head(20)"
   ]
  },
  {
   "cell_type": "code",
   "execution_count": 211,
   "metadata": {},
   "outputs": [
    {
     "data": {
      "text/plain": [
       "<AxesSubplot:xlabel='Month', ylabel='Weekly_Sales'>"
      ]
     },
     "execution_count": 211,
     "metadata": {},
     "output_type": "execute_result"
    },
    {
     "data": {
      "image/png": "[encoded data removed]",
      "text/plain": [
       "<Figure size 432x288 with 1 Axes>"
      ]
     },
     "metadata": {
      "needs_background": "light"
     },
     "output_type": "display_data"
    }
   ],
   "source": [
    "sns.barplot(x=year2011.Month,y=year2011.Weekly_Sales)"
   ]
  },
  {
   "cell_type": "code",
   "execution_count": 212,
   "metadata": {},
   "outputs": [
    {
     "data": {
      "text/plain": [
       "Quarter\n",
       "4    1.164960e+06\n",
       "2    1.022133e+06\n",
       "3    1.014855e+06\n",
       "1    9.803551e+05\n",
       "Name: Weekly_Sales, dtype: float64"
      ]
     },
     "execution_count": 212,
     "metadata": {},
     "output_type": "execute_result"
    }
   ],
   "source": [
    "year2011.groupby(\"Quarter\")[\"Weekly_Sales\"].mean().sort_values(ascending=False)"
   ]
  },
  {
   "cell_type": "code",
   "execution_count": 213,
   "metadata": {},
   "outputs": [
    {
     "data": {
      "text/plain": [
       "<AxesSubplot:xlabel='Quarter', ylabel='Weekly_Sales'>"
      ]
     },
     "execution_count": 213,
     "metadata": {},
     "output_type": "execute_result"
    },
    {
     "data": {
      "image/png": "[encoded data removed]",
      "text/plain": [
       "<Figure size 432x288 with 1 Axes>"
      ]
     },
     "metadata": {
      "needs_background": "light"
     },
     "output_type": "display_data"
    }
   ],
   "source": [
    "sns.barplot(x=year2011.Quarter,y=year2011.Weekly_Sales)"
   ]
  },
  {
   "cell_type": "markdown",
   "metadata": {},
   "source": [
    "<font color=purple> **->In 2011, Sales are better during end of the year, we see Dec tops the sales followed by Nov which is why 4th Quarter has better sales, store wise we see sales of  store 20 in Dec has the higest sales of the year.** </font>"
   ]
  },
  {
   "cell_type": "markdown",
   "metadata": {},
   "source": [
    "\n",
    "\n",
    "\n"
   ]
  },
  {
   "cell_type": "markdown",
   "metadata": {},
   "source": [
    "<font color=green> **2012 analysis** </font>"
   ]
  },
  {
   "cell_type": "code",
   "execution_count": 214,
   "metadata": {},
   "outputs": [
    {
     "data": {
      "text/plain": [
       "Month\n",
       "6     1.069379e+06\n",
       "2     1.067020e+06\n",
       "8     1.052670e+06\n",
       "4     1.049561e+06\n",
       "5     1.048703e+06\n",
       "7     1.041719e+06\n",
       "3     1.028932e+06\n",
       "10    1.024232e+06\n",
       "9     1.003586e+06\n",
       "1     9.383026e+05\n",
       "Name: Weekly_Sales, dtype: float64"
      ]
     },
     "execution_count": 214,
     "metadata": {},
     "output_type": "execute_result"
    }
   ],
   "source": [
    "year2012.groupby(\"Month\")[\"Weekly_Sales\"].mean().sort_values(ascending=False)"
   ]
  },
  {
   "cell_type": "code",
   "execution_count": 215,
   "metadata": {},
   "outputs": [
    {
     "data": {
      "text/plain": [
       "<AxesSubplot:xlabel='Month', ylabel='Weekly_Sales'>"
      ]
     },
     "execution_count": 215,
     "metadata": {},
     "output_type": "execute_result"
    },
    {
     "data": {
      "image/png": "[encoded data removed]",
      "text/plain": [
       "<Figure size 432x288 with 1 Axes>"
      ]
     },
     "metadata": {
      "needs_background": "light"
     },
     "output_type": "display_data"
    }
   ],
   "source": [
    "sns.barplot(x=year2012.Month,y=year2012.Weekly_Sales)"
   ]
  },
  {
   "cell_type": "code",
   "execution_count": 216,
   "metadata": {},
   "outputs": [
    {
     "data": {
      "text/plain": [
       "Month  Store\n",
       "2      4        2.300584e+06\n",
       "       20       2.255341e+06\n",
       "6      4        2.196894e+06\n",
       "4      4        2.195978e+06\n",
       "8      4        2.171569e+06\n",
       "5      4        2.171495e+06\n",
       "3      4        2.160942e+06\n",
       "10     4        2.147431e+06\n",
       "7      4        2.137232e+06\n",
       "6      20       2.131358e+06\n",
       "5      20       2.121455e+06\n",
       "10     20       2.110094e+06\n",
       "6      13       2.100427e+06\n",
       "9      4        2.097505e+06\n",
       "4      20       2.095397e+06\n",
       "7      20       2.093616e+06\n",
       "3      20       2.084048e+06\n",
       "2      10       2.073531e+06\n",
       "8      20       2.070329e+06\n",
       "4      13       2.063766e+06\n",
       "Name: Weekly_Sales, dtype: float64"
      ]
     },
     "execution_count": 216,
     "metadata": {},
     "output_type": "execute_result"
    }
   ],
   "source": [
    "monthlysummary2012 =year2012.groupby([\"Month\",\"Store\"])[\"Weekly_Sales\"].mean().sort_values(ascending=False)\n",
    "monthlysummary2012.head(20)"
   ]
  },
  {
   "cell_type": "code",
   "execution_count": 217,
   "metadata": {},
   "outputs": [
    {
     "data": {
      "text/plain": [
       "Quarter\n",
       "2    1.056919e+06\n",
       "3    1.034198e+06\n",
       "4    1.024232e+06\n",
       "1    1.012765e+06\n",
       "Name: Weekly_Sales, dtype: float64"
      ]
     },
     "execution_count": 217,
     "metadata": {},
     "output_type": "execute_result"
    }
   ],
   "source": [
    "year2012.groupby(\"Quarter\")[\"Weekly_Sales\"].mean().sort_values(ascending=False)"
   ]
  },
  {
   "cell_type": "code",
   "execution_count": 218,
   "metadata": {},
   "outputs": [
    {
     "data": {
      "text/plain": [
       "<AxesSubplot:xlabel='Quarter', ylabel='Weekly_Sales'>"
      ]
     },
     "execution_count": 218,
     "metadata": {},
     "output_type": "execute_result"
    },
    {
     "data": {
      "image/png": "[encoded data removed]",
      "text/plain": [
       "<Figure size 432x288 with 1 Axes>"
      ]
     },
     "metadata": {
      "needs_background": "light"
     },
     "output_type": "display_data"
    }
   ],
   "source": [
    "sns.barplot(x=year2012.Quarter,y=year2012.Weekly_Sales)"
   ]
  },
  {
   "cell_type": "markdown",
   "metadata": {},
   "source": [
    "<font color=purple> **->In 2012, Sales of Jun followed by Feb are on the top, store 4 followed by store 20 in Feb have topped the sales in 2012, overall Quarter 2 does better than other Quarters.** </font>\n",
    "<font color=red> **Something to consider is that we dont have sales of Nov and Dec in 2012 for analysis, if we had may be they would have topped sales again as in the case of previous two years.** </font>"
   ]
  },
  {
   "cell_type": "markdown",
   "metadata": {},
   "source": [
    "_________________________________"
   ]
  },
  {
   "cell_type": "markdown",
   "metadata": {},
   "source": [
    "### For Store 1 – Build  prediction models to forecast demand\n",
    "\n",
    "Linear Regression – Utilize variables like date and restructure dates as 1 for 5 Feb 2010 (starting from the earliest date in order). Hypothesize if CPI, unemployment, and fuel price have any impact on sales.\n",
    "\n"
   ]
  },
  {
   "cell_type": "code",
   "execution_count": 219,
   "metadata": {},
   "outputs": [
    {
     "data": {
      "text/html": [
       "<div>\n",
       "<style scoped>\n",
       "    .dataframe tbody tr th:only-of-type {\n",
       "        vertical-align: middle;\n",
       "    }\n",
       "\n",
       "    .dataframe tbody tr th {\n",
       "        vertical-align: top;\n",
       "    }\n",
       "\n",
       "    .dataframe thead th {\n",
       "        text-align: right;\n",
       "    }\n",
       "</style>\n",
       "<table border=\"1\" class=\"dataframe\">\n",
       "  <thead>\n",
       "    <tr style=\"text-align: right;\">\n",
       "      <th></th>\n",
       "      <th>Store</th>\n",
       "      <th>Date</th>\n",
       "      <th>Weekly_Sales</th>\n",
       "      <th>Holiday_Flag</th>\n",
       "      <th>Temperature</th>\n",
       "      <th>Fuel_Price</th>\n",
       "      <th>CPI</th>\n",
       "      <th>Unemployment</th>\n",
       "      <th>Month</th>\n",
       "      <th>Year</th>\n",
       "      <th>Quarter</th>\n",
       "    </tr>\n",
       "  </thead>\n",
       "  <tbody>\n",
       "    <tr>\n",
       "      <th>0</th>\n",
       "      <td>1</td>\n",
       "      <td>2010-02-05</td>\n",
       "      <td>1643690.90</td>\n",
       "      <td>0</td>\n",
       "      <td>42.31</td>\n",
       "      <td>2.572</td>\n",
       "      <td>211.096358</td>\n",
       "      <td>8.106</td>\n",
       "      <td>2</td>\n",
       "      <td>2010</td>\n",
       "      <td>1</td>\n",
       "    </tr>\n",
       "    <tr>\n",
       "      <th>1</th>\n",
       "      <td>1</td>\n",
       "      <td>2010-02-12</td>\n",
       "      <td>1641957.44</td>\n",
       "      <td>1</td>\n",
       "      <td>38.51</td>\n",
       "      <td>2.548</td>\n",
       "      <td>211.242170</td>\n",
       "      <td>8.106</td>\n",
       "      <td>2</td>\n",
       "      <td>2010</td>\n",
       "      <td>1</td>\n",
       "    </tr>\n",
       "    <tr>\n",
       "      <th>2</th>\n",
       "      <td>1</td>\n",
       "      <td>2010-02-19</td>\n",
       "      <td>1611968.17</td>\n",
       "      <td>0</td>\n",
       "      <td>39.93</td>\n",
       "      <td>2.514</td>\n",
       "      <td>211.289143</td>\n",
       "      <td>8.106</td>\n",
       "      <td>2</td>\n",
       "      <td>2010</td>\n",
       "      <td>1</td>\n",
       "    </tr>\n",
       "    <tr>\n",
       "      <th>3</th>\n",
       "      <td>1</td>\n",
       "      <td>2010-02-26</td>\n",
       "      <td>1409727.59</td>\n",
       "      <td>0</td>\n",
       "      <td>46.63</td>\n",
       "      <td>2.561</td>\n",
       "      <td>211.319643</td>\n",
       "      <td>8.106</td>\n",
       "      <td>2</td>\n",
       "      <td>2010</td>\n",
       "      <td>1</td>\n",
       "    </tr>\n",
       "    <tr>\n",
       "      <th>4</th>\n",
       "      <td>1</td>\n",
       "      <td>2010-03-05</td>\n",
       "      <td>1554806.68</td>\n",
       "      <td>0</td>\n",
       "      <td>46.50</td>\n",
       "      <td>2.625</td>\n",
       "      <td>211.350143</td>\n",
       "      <td>8.106</td>\n",
       "      <td>3</td>\n",
       "      <td>2010</td>\n",
       "      <td>1</td>\n",
       "    </tr>\n",
       "  </tbody>\n",
       "</table>\n",
       "</div>"
      ],
      "text/plain": [
       "   Store       Date  Weekly_Sales  Holiday_Flag  Temperature  Fuel_Price  \\\n",
       "0      1 2010-02-05    1643690.90             0        42.31       2.572   \n",
       "1      1 2010-02-12    1641957.44             1        38.51       2.548   \n",
       "2      1 2010-02-19    1611968.17             0        39.93       2.514   \n",
       "3      1 2010-02-26    1409727.59             0        46.63       2.561   \n",
       "4      1 2010-03-05    1554806.68             0        46.50       2.625   \n",
       "\n",
       "          CPI  Unemployment  Month  Year  Quarter  \n",
       "0  211.096358         8.106      2  2010        1  \n",
       "1  211.242170         8.106      2  2010        1  \n",
       "2  211.289143         8.106      2  2010        1  \n",
       "3  211.319643         8.106      2  2010        1  \n",
       "4  211.350143         8.106      3  2010        1  "
      ]
     },
     "execution_count": 219,
     "metadata": {},
     "output_type": "execute_result"
    }
   ],
   "source": [
    "Walmart.head()"
   ]
  },
  {
   "cell_type": "code",
   "execution_count": 220,
   "metadata": {},
   "outputs": [
    {
     "data": {
      "text/html": [
       "<div>\n",
       "<style scoped>\n",
       "    .dataframe tbody tr th:only-of-type {\n",
       "        vertical-align: middle;\n",
       "    }\n",
       "\n",
       "    .dataframe tbody tr th {\n",
       "        vertical-align: top;\n",
       "    }\n",
       "\n",
       "    .dataframe thead th {\n",
       "        text-align: right;\n",
       "    }\n",
       "</style>\n",
       "<table border=\"1\" class=\"dataframe\">\n",
       "  <thead>\n",
       "    <tr style=\"text-align: right;\">\n",
       "      <th></th>\n",
       "      <th>Store</th>\n",
       "      <th>Weekly_Sales</th>\n",
       "      <th>Holiday_Flag</th>\n",
       "      <th>Temperature</th>\n",
       "      <th>Fuel_Price</th>\n",
       "      <th>CPI</th>\n",
       "      <th>Unemployment</th>\n",
       "      <th>Month</th>\n",
       "      <th>Year</th>\n",
       "      <th>Quarter</th>\n",
       "    </tr>\n",
       "  </thead>\n",
       "  <tbody>\n",
       "    <tr>\n",
       "      <th>Store</th>\n",
       "      <td>1.000000e+00</td>\n",
       "      <td>-0.335332</td>\n",
       "      <td>6.250842e-20</td>\n",
       "      <td>-0.022659</td>\n",
       "      <td>0.060023</td>\n",
       "      <td>-0.209492</td>\n",
       "      <td>0.223531</td>\n",
       "      <td>1.260329e-18</td>\n",
       "      <td>0.000000</td>\n",
       "      <td>2.224951e-18</td>\n",
       "    </tr>\n",
       "    <tr>\n",
       "      <th>Weekly_Sales</th>\n",
       "      <td>-3.353320e-01</td>\n",
       "      <td>1.000000</td>\n",
       "      <td>3.689097e-02</td>\n",
       "      <td>-0.063810</td>\n",
       "      <td>0.009464</td>\n",
       "      <td>-0.072634</td>\n",
       "      <td>-0.106176</td>\n",
       "      <td>7.614332e-02</td>\n",
       "      <td>-0.018378</td>\n",
       "      <td>6.336275e-02</td>\n",
       "    </tr>\n",
       "    <tr>\n",
       "      <th>Holiday_Flag</th>\n",
       "      <td>6.250842e-20</td>\n",
       "      <td>0.036891</td>\n",
       "      <td>1.000000e+00</td>\n",
       "      <td>-0.155091</td>\n",
       "      <td>-0.078347</td>\n",
       "      <td>-0.002162</td>\n",
       "      <td>0.010960</td>\n",
       "      <td>1.229958e-01</td>\n",
       "      <td>-0.056783</td>\n",
       "      <td>8.136344e-02</td>\n",
       "    </tr>\n",
       "    <tr>\n",
       "      <th>Temperature</th>\n",
       "      <td>-2.265908e-02</td>\n",
       "      <td>-0.063810</td>\n",
       "      <td>-1.550913e-01</td>\n",
       "      <td>1.000000</td>\n",
       "      <td>0.144982</td>\n",
       "      <td>0.176888</td>\n",
       "      <td>0.101158</td>\n",
       "      <td>2.358618e-01</td>\n",
       "      <td>0.064269</td>\n",
       "      <td>2.444967e-01</td>\n",
       "    </tr>\n",
       "    <tr>\n",
       "      <th>Fuel_Price</th>\n",
       "      <td>6.002295e-02</td>\n",
       "      <td>0.009464</td>\n",
       "      <td>-7.834652e-02</td>\n",
       "      <td>0.144982</td>\n",
       "      <td>1.000000</td>\n",
       "      <td>-0.170642</td>\n",
       "      <td>-0.034684</td>\n",
       "      <td>-4.215590e-02</td>\n",
       "      <td>0.779470</td>\n",
       "      <td>-4.307778e-02</td>\n",
       "    </tr>\n",
       "    <tr>\n",
       "      <th>CPI</th>\n",
       "      <td>-2.094919e-01</td>\n",
       "      <td>-0.072634</td>\n",
       "      <td>-2.162091e-03</td>\n",
       "      <td>0.176888</td>\n",
       "      <td>-0.170642</td>\n",
       "      <td>1.000000</td>\n",
       "      <td>-0.302020</td>\n",
       "      <td>4.979672e-03</td>\n",
       "      <td>0.074796</td>\n",
       "      <td>4.733426e-03</td>\n",
       "    </tr>\n",
       "    <tr>\n",
       "      <th>Unemployment</th>\n",
       "      <td>2.235313e-01</td>\n",
       "      <td>-0.106176</td>\n",
       "      <td>1.096028e-02</td>\n",
       "      <td>0.101158</td>\n",
       "      <td>-0.034684</td>\n",
       "      <td>-0.302020</td>\n",
       "      <td>1.000000</td>\n",
       "      <td>-1.274559e-02</td>\n",
       "      <td>-0.241813</td>\n",
       "      <td>-1.787284e-02</td>\n",
       "    </tr>\n",
       "    <tr>\n",
       "      <th>Month</th>\n",
       "      <td>1.260329e-18</td>\n",
       "      <td>0.076143</td>\n",
       "      <td>1.229958e-01</td>\n",
       "      <td>0.235862</td>\n",
       "      <td>-0.042156</td>\n",
       "      <td>0.004980</td>\n",
       "      <td>-0.012746</td>\n",
       "      <td>1.000000e+00</td>\n",
       "      <td>-0.194465</td>\n",
       "      <td>9.670705e-01</td>\n",
       "    </tr>\n",
       "    <tr>\n",
       "      <th>Year</th>\n",
       "      <td>0.000000e+00</td>\n",
       "      <td>-0.018378</td>\n",
       "      <td>-5.678257e-02</td>\n",
       "      <td>0.064269</td>\n",
       "      <td>0.779470</td>\n",
       "      <td>0.074796</td>\n",
       "      <td>-0.241813</td>\n",
       "      <td>-1.944645e-01</td>\n",
       "      <td>1.000000</td>\n",
       "      <td>-1.852383e-01</td>\n",
       "    </tr>\n",
       "    <tr>\n",
       "      <th>Quarter</th>\n",
       "      <td>2.224951e-18</td>\n",
       "      <td>0.063363</td>\n",
       "      <td>8.136344e-02</td>\n",
       "      <td>0.244497</td>\n",
       "      <td>-0.043078</td>\n",
       "      <td>0.004733</td>\n",
       "      <td>-0.017873</td>\n",
       "      <td>9.670705e-01</td>\n",
       "      <td>-0.185238</td>\n",
       "      <td>1.000000e+00</td>\n",
       "    </tr>\n",
       "  </tbody>\n",
       "</table>\n",
       "</div>"
      ],
      "text/plain": [
       "                     Store  Weekly_Sales  Holiday_Flag  Temperature  \\\n",
       "Store         1.000000e+00     -0.335332  6.250842e-20    -0.022659   \n",
       "Weekly_Sales -3.353320e-01      1.000000  3.689097e-02    -0.063810   \n",
       "Holiday_Flag  6.250842e-20      0.036891  1.000000e+00    -0.155091   \n",
       "Temperature  -2.265908e-02     -0.063810 -1.550913e-01     1.000000   \n",
       "Fuel_Price    6.002295e-02      0.009464 -7.834652e-02     0.144982   \n",
       "CPI          -2.094919e-01     -0.072634 -2.162091e-03     0.176888   \n",
       "Unemployment  2.235313e-01     -0.106176  1.096028e-02     0.101158   \n",
       "Month         1.260329e-18      0.076143  1.229958e-01     0.235862   \n",
       "Year          0.000000e+00     -0.018378 -5.678257e-02     0.064269   \n",
       "Quarter       2.224951e-18      0.063363  8.136344e-02     0.244497   \n",
       "\n",
       "              Fuel_Price       CPI  Unemployment         Month      Year  \\\n",
       "Store           0.060023 -0.209492      0.223531  1.260329e-18  0.000000   \n",
       "Weekly_Sales    0.009464 -0.072634     -0.106176  7.614332e-02 -0.018378   \n",
       "Holiday_Flag   -0.078347 -0.002162      0.010960  1.229958e-01 -0.056783   \n",
       "Temperature     0.144982  0.176888      0.101158  2.358618e-01  0.064269   \n",
       "Fuel_Price      1.000000 -0.170642     -0.034684 -4.215590e-02  0.779470   \n",
       "CPI            -0.170642  1.000000     -0.302020  4.979672e-03  0.074796   \n",
       "Unemployment   -0.034684 -0.302020      1.000000 -1.274559e-02 -0.241813   \n",
       "Month          -0.042156  0.004980     -0.012746  1.000000e+00 -0.194465   \n",
       "Year            0.779470  0.074796     -0.241813 -1.944645e-01  1.000000   \n",
       "Quarter        -0.043078  0.004733     -0.017873  9.670705e-01 -0.185238   \n",
       "\n",
       "                   Quarter  \n",
       "Store         2.224951e-18  \n",
       "Weekly_Sales  6.336275e-02  \n",
       "Holiday_Flag  8.136344e-02  \n",
       "Temperature   2.444967e-01  \n",
       "Fuel_Price   -4.307778e-02  \n",
       "CPI           4.733426e-03  \n",
       "Unemployment -1.787284e-02  \n",
       "Month         9.670705e-01  \n",
       "Year         -1.852383e-01  \n",
       "Quarter       1.000000e+00  "
      ]
     },
     "execution_count": 220,
     "metadata": {},
     "output_type": "execute_result"
    }
   ],
   "source": [
    "Walmart.corr()"
   ]
  },
  {
   "cell_type": "markdown",
   "metadata": {},
   "source": [
    "We see that weekly sales has positive correlation with HolidayFlag,Fuel price,Month,Quarter and negatively correlated with CPI , Unemployment,year,Temperature."
   ]
  },
  {
   "cell_type": "markdown",
   "metadata": {},
   "source": [
    "# Prediction Model"
   ]
  },
  {
   "cell_type": "code",
   "execution_count": 222,
   "metadata": {},
   "outputs": [
    {
     "data": {
      "text/html": [
       "<div>\n",
       "<style scoped>\n",
       "    .dataframe tbody tr th:only-of-type {\n",
       "        vertical-align: middle;\n",
       "    }\n",
       "\n",
       "    .dataframe tbody tr th {\n",
       "        vertical-align: top;\n",
       "    }\n",
       "\n",
       "    .dataframe thead th {\n",
       "        text-align: right;\n",
       "    }\n",
       "</style>\n",
       "<table border=\"1\" class=\"dataframe\">\n",
       "  <thead>\n",
       "    <tr style=\"text-align: right;\">\n",
       "      <th></th>\n",
       "      <th>Weekly_Sales</th>\n",
       "      <th>CPI</th>\n",
       "      <th>Holiday_Flag</th>\n",
       "      <th>Fuel_Price</th>\n",
       "      <th>Unemployment</th>\n",
       "      <th>Year</th>\n",
       "      <th>Month</th>\n",
       "      <th>Quarter</th>\n",
       "      <th>Temperature</th>\n",
       "    </tr>\n",
       "  </thead>\n",
       "  <tbody>\n",
       "    <tr>\n",
       "      <th>0</th>\n",
       "      <td>1643690.90</td>\n",
       "      <td>211.096358</td>\n",
       "      <td>0</td>\n",
       "      <td>2.572</td>\n",
       "      <td>8.106</td>\n",
       "      <td>2010</td>\n",
       "      <td>2</td>\n",
       "      <td>1</td>\n",
       "      <td>42.31</td>\n",
       "    </tr>\n",
       "    <tr>\n",
       "      <th>1</th>\n",
       "      <td>1641957.44</td>\n",
       "      <td>211.242170</td>\n",
       "      <td>1</td>\n",
       "      <td>2.548</td>\n",
       "      <td>8.106</td>\n",
       "      <td>2010</td>\n",
       "      <td>2</td>\n",
       "      <td>1</td>\n",
       "      <td>38.51</td>\n",
       "    </tr>\n",
       "    <tr>\n",
       "      <th>2</th>\n",
       "      <td>1611968.17</td>\n",
       "      <td>211.289143</td>\n",
       "      <td>0</td>\n",
       "      <td>2.514</td>\n",
       "      <td>8.106</td>\n",
       "      <td>2010</td>\n",
       "      <td>2</td>\n",
       "      <td>1</td>\n",
       "      <td>39.93</td>\n",
       "    </tr>\n",
       "    <tr>\n",
       "      <th>3</th>\n",
       "      <td>1409727.59</td>\n",
       "      <td>211.319643</td>\n",
       "      <td>0</td>\n",
       "      <td>2.561</td>\n",
       "      <td>8.106</td>\n",
       "      <td>2010</td>\n",
       "      <td>2</td>\n",
       "      <td>1</td>\n",
       "      <td>46.63</td>\n",
       "    </tr>\n",
       "    <tr>\n",
       "      <th>4</th>\n",
       "      <td>1554806.68</td>\n",
       "      <td>211.350143</td>\n",
       "      <td>0</td>\n",
       "      <td>2.625</td>\n",
       "      <td>8.106</td>\n",
       "      <td>2010</td>\n",
       "      <td>3</td>\n",
       "      <td>1</td>\n",
       "      <td>46.50</td>\n",
       "    </tr>\n",
       "  </tbody>\n",
       "</table>\n",
       "</div>"
      ],
      "text/plain": [
       "   Weekly_Sales         CPI  Holiday_Flag  Fuel_Price  Unemployment  Year  \\\n",
       "0    1643690.90  211.096358             0       2.572         8.106  2010   \n",
       "1    1641957.44  211.242170             1       2.548         8.106  2010   \n",
       "2    1611968.17  211.289143             0       2.514         8.106  2010   \n",
       "3    1409727.59  211.319643             0       2.561         8.106  2010   \n",
       "4    1554806.68  211.350143             0       2.625         8.106  2010   \n",
       "\n",
       "   Month  Quarter  Temperature  \n",
       "0      2        1        42.31  \n",
       "1      2        1        38.51  \n",
       "2      2        1        39.93  \n",
       "3      2        1        46.63  \n",
       "4      3        1        46.50  "
      ]
     },
     "execution_count": 222,
     "metadata": {},
     "output_type": "execute_result"
    }
   ],
   "source": [
    "model1 = Walmart.groupby(\"Store\")[\"Weekly_Sales\",\"CPI\",\"Holiday_Flag\",\"Fuel_Price\",\"Unemployment\",\"Year\",\"Month\",\"Quarter\",\"Temperature\"]\n",
    "factors = model1.get_group(1)\n",
    "factors.head()"
   ]
  },
  {
   "cell_type": "code",
   "execution_count": 223,
   "metadata": {},
   "outputs": [
    {
     "data": {
      "text/plain": [
       "(143, 9)"
      ]
     },
     "execution_count": 223,
     "metadata": {},
     "output_type": "execute_result"
    }
   ],
   "source": [
    "factors.shape"
   ]
  },
  {
   "cell_type": "code",
   "execution_count": 224,
   "metadata": {},
   "outputs": [
    {
     "data": {
      "text/plain": [
       "<seaborn.axisgrid.PairGrid at 0x201b8effdc0>"
      ]
     },
     "execution_count": 224,
     "metadata": {},
     "output_type": "execute_result"
    },
    {
     "data": {
      "image/png": "[encoded data removed]",
      "text/plain": [
       "<Figure size 1411.2x504 with 4 Axes>"
      ]
     },
     "metadata": {
      "needs_background": "light"
     },
     "output_type": "display_data"
    }
   ],
   "source": [
    "sns.pairplot(factors, x_vars=['CPI','Unemployment','Fuel_Price',\"Holiday_Flag\"], y_vars='Weekly_Sales', size=7, aspect=0.7)\n"
   ]
  },
  {
   "cell_type": "code",
   "execution_count": 225,
   "metadata": {},
   "outputs": [
    {
     "data": {
      "text/plain": [
       "<AxesSubplot:>"
      ]
     },
     "execution_count": 225,
     "metadata": {},
     "output_type": "execute_result"
    },
    {
     "data": {
      "image/png": "[encoded data removed]",
      "text/plain": [
       "<Figure size 432x288 with 2 Axes>"
      ]
     },
     "metadata": {
      "needs_background": "light"
     },
     "output_type": "display_data"
    }
   ],
   "source": [
    "# heatmap of correlation \n",
    "\n",
    "sns.heatmap(factors.corr(), annot = True)\n"
   ]
  },
  {
   "cell_type": "code",
   "execution_count": 226,
   "metadata": {},
   "outputs": [],
   "source": [
    "from sklearn.model_selection import train_test_split\n",
    "\n"
   ]
  },
  {
   "cell_type": "code",
   "execution_count": 227,
   "metadata": {},
   "outputs": [],
   "source": [
    "from sklearn.linear_model import LinearRegression\n",
    "from sklearn.linear_model import Ridge\n",
    "from sklearn.linear_model import Lasso\n",
    "from sklearn.linear_model import ElasticNet\n",
    "LM = LinearRegression()\n",
    "ridg = Ridge()\n",
    "las = Lasso()\n",
    "elas = ElasticNet()\n",
    "\n"
   ]
  },
  {
   "cell_type": "code",
   "execution_count": 228,
   "metadata": {},
   "outputs": [
    {
     "data": {
      "text/plain": [
       "((143, 8), (143,))"
      ]
     },
     "execution_count": 228,
     "metadata": {},
     "output_type": "execute_result"
    }
   ],
   "source": [
    "#splitting features and target as X and y\n",
    "\n",
    "X = factors.drop(\"Weekly_Sales\",axis=1)\n",
    "y = factors[\"Weekly_Sales\"]\n",
    "X.shape,y.shape"
   ]
  },
  {
   "cell_type": "code",
   "execution_count": 229,
   "metadata": {},
   "outputs": [],
   "source": [
    "from sklearn.model_selection import cross_val_score"
   ]
  },
  {
   "cell_type": "code",
   "execution_count": 230,
   "metadata": {},
   "outputs": [
    {
     "name": "stdout",
     "output_type": "stream",
     "text": [
      "[-0.26074502  0.16627308 -1.01054961 -0.00605614 -4.06210525]\n",
      "-1.0346365862419118\n"
     ]
    }
   ],
   "source": [
    "#Linear regression\n",
    "crossval5 = cross_val_score(LM,X,y,cv=5)\n",
    "print(crossval5)\n",
    "print(np.mean(crossval5))"
   ]
  },
  {
   "cell_type": "code",
   "execution_count": 231,
   "metadata": {},
   "outputs": [
    {
     "name": "stdout",
     "output_type": "stream",
     "text": [
      "[-0.24918363  0.17968444 -0.72366662  0.03958032 -2.55694836]\n",
      "-0.6621067687157429\n"
     ]
    }
   ],
   "source": [
    "# Ridge\n",
    "crossval5 = cross_val_score(ridg,X,y,cv=5)\n",
    "print(crossval5)\n",
    "print(np.mean(crossval5))"
   ]
  },
  {
   "cell_type": "code",
   "execution_count": 232,
   "metadata": {},
   "outputs": [
    {
     "name": "stdout",
     "output_type": "stream",
     "text": [
      "[-0.2607015   0.16638155 -1.00999785 -0.00595661 -4.06047462]\n",
      "-1.0341498061515348\n"
     ]
    }
   ],
   "source": [
    "# Lasso\n",
    "crossval5 = cross_val_score(las,X,y,cv=5)\n",
    "print(crossval5)\n",
    "print(np.mean(crossval5))"
   ]
  },
  {
   "cell_type": "code",
   "execution_count": 233,
   "metadata": {},
   "outputs": [
    {
     "name": "stdout",
     "output_type": "stream",
     "text": [
      "[ 0.03602965  0.12321224 -0.20377954  0.03612761 -1.03998277]\n",
      "-0.20967856161069182\n"
     ]
    }
   ],
   "source": [
    "#elastic regression\n",
    "crossval5 = cross_val_score(elas,X,y,cv=5)\n",
    "print(crossval5)\n",
    "print(np.mean(crossval5))"
   ]
  },
  {
   "cell_type": "code",
   "execution_count": 234,
   "metadata": {},
   "outputs": [],
   "source": [
    "#splitting the data into train and test\n",
    "X_train,X_test,y_train,y_test = train_test_split(X,y,random_state=42)"
   ]
  },
  {
   "cell_type": "code",
   "execution_count": 235,
   "metadata": {},
   "outputs": [
    {
     "data": {
      "text/plain": [
       "((107, 8), (36, 8), (107,), (36,))"
      ]
     },
     "execution_count": 235,
     "metadata": {},
     "output_type": "execute_result"
    }
   ],
   "source": [
    "X_train.shape,X_test.shape,y_train.shape,y_test.shape"
   ]
  },
  {
   "cell_type": "code",
   "execution_count": 236,
   "metadata": {},
   "outputs": [
    {
     "data": {
      "text/plain": [
       "ElasticNet()"
      ]
     },
     "execution_count": 236,
     "metadata": {},
     "output_type": "execute_result"
    }
   ],
   "source": [
    "#fitting the train data into Linear,Ridge,Lasso,Elastic\n",
    "LM.fit(X_train,y_train)\n",
    "ridg.fit(X_train,y_train)\n",
    "las.fit(X_train,y_train)\n",
    "elas.fit(X_train,y_train)"
   ]
  },
  {
   "cell_type": "code",
   "execution_count": 237,
   "metadata": {},
   "outputs": [],
   "source": [
    "#predicting on test data with Linear,Ridge,Lasso,Elastic\n",
    "y_lmpred = LM.predict(X_test)\n",
    "y_ridgpred = ridg.predict(X_test)\n",
    "y_laspred = las.predict(X_test)\n",
    "y_elaspred = elas.predict(X_test)\n"
   ]
  },
  {
   "cell_type": "code",
   "execution_count": 238,
   "metadata": {},
   "outputs": [
    {
     "name": "stdout",
     "output_type": "stream",
     "text": [
      "0.17169160171899334\n",
      "0.17040228586607653\n",
      "0.1716915949148744\n",
      "0.12337459340743728\n"
     ]
    }
   ],
   "source": [
    "# checking the accuracy on train data\n",
    "print(LM.score(X_train, y_train))  \n",
    "print(ridg.score(X_train, y_train))\n",
    "print(las.score(X_train, y_train))\n",
    "print(elas.score(X_train, y_train))"
   ]
  },
  {
   "cell_type": "code",
   "execution_count": 239,
   "metadata": {},
   "outputs": [
    {
     "name": "stdout",
     "output_type": "stream",
     "text": [
      "0.15801821299015884\n",
      "0.16314266707575897\n",
      "0.15804793520085436\n",
      "0.1376074016437523\n"
     ]
    }
   ],
   "source": [
    "#checking the accuracy on test data\n",
    "print(LM.score(X_test,y_test))  \n",
    "print(ridg.score(X_test,y_test))\n",
    "print(las.score(X_test,y_test))\n",
    "print(elas.score(X_test,y_test))"
   ]
  },
  {
   "cell_type": "code",
   "execution_count": 240,
   "metadata": {},
   "outputs": [],
   "source": [
    "from sklearn.metrics import mean_squared_error"
   ]
  },
  {
   "cell_type": "code",
   "execution_count": 241,
   "metadata": {},
   "outputs": [
    {
     "name": "stdout",
     "output_type": "stream",
     "text": [
      "R^2: 0.15801821299015884\n",
      "Root Mean Squared Error: 169880.5305325963\n"
     ]
    }
   ],
   "source": [
    "print(\"R^2: {}\".format(LM.score(X_test, y_test)))\n",
    "rmse = np.sqrt(mean_squared_error(y_test,y_lmpred))\n",
    "print(\"Root Mean Squared Error: {}\".format(rmse))"
   ]
  },
  {
   "cell_type": "code",
   "execution_count": 242,
   "metadata": {},
   "outputs": [
    {
     "name": "stdout",
     "output_type": "stream",
     "text": [
      "R^2: 0.16314266707575897\n",
      "Root Mean Squared Error: 169362.77966665482\n"
     ]
    }
   ],
   "source": [
    "print(\"R^2: {}\".format(ridg.score(X_test, y_test)))\n",
    "rmse = np.sqrt(mean_squared_error(y_test,y_ridgpred))\n",
    "print(\"Root Mean Squared Error: {}\".format(rmse))"
   ]
  },
  {
   "cell_type": "code",
   "execution_count": 243,
   "metadata": {},
   "outputs": [
    {
     "name": "stdout",
     "output_type": "stream",
     "text": [
      "R^2: 0.15804793520085436\n",
      "Root Mean Squared Error: 169877.53208918576\n"
     ]
    }
   ],
   "source": [
    "print(\"R^2: {}\".format(las.score(X_test, y_test)))\n",
    "rmse = np.sqrt(mean_squared_error(y_test,y_laspred))\n",
    "print(\"Root Mean Squared Error: {}\".format(rmse))"
   ]
  },
  {
   "cell_type": "code",
   "execution_count": 244,
   "metadata": {},
   "outputs": [
    {
     "name": "stdout",
     "output_type": "stream",
     "text": [
      "R^2: 0.1376074016437523\n",
      "Root Mean Squared Error: 171927.27119287165\n"
     ]
    }
   ],
   "source": [
    "print(\"R^2: {}\".format(elas.score(X_test, y_test)))\n",
    "rmse = np.sqrt(mean_squared_error(y_test,y_elaspred))\n",
    "print(\"Root Mean Squared Error: {}\".format(rmse))"
   ]
  },
  {
   "cell_type": "markdown",
   "metadata": {},
   "source": [
    "\n",
    "\n",
    "\n"
   ]
  },
  {
   "cell_type": "code",
   "execution_count": 245,
   "metadata": {},
   "outputs": [],
   "source": [
    "# ridge regression with alpha\n",
    "\n",
    "alpha_space = np.logspace(-4, 0, 50)\n",
    "ridge_scores = []\n",
    "ridge_scores_std = []\n",
    "ridge = Ridge(normalize=True)"
   ]
  },
  {
   "cell_type": "code",
   "execution_count": 246,
   "metadata": {},
   "outputs": [],
   "source": [
    "def display_plot(cv_scores, cv_scores_std):\n",
    "    fig = plt.figure()\n",
    "    ax = fig.add_subplot(1,1,1)\n",
    "    ax.plot(alpha_space, cv_scores)\n",
    "\n",
    "    std_error = cv_scores_std / np.sqrt(10)\n",
    "\n",
    "    ax.fill_between(alpha_space, cv_scores + std_error, cv_scores - std_error, alpha=0.2)\n",
    "    ax.set_ylabel('CV Score +/- Std Error')\n",
    "    ax.set_xlabel('Alpha')\n",
    "    ax.axhline(np.max(cv_scores), linestyle='--', color='.5')\n",
    "    ax.set_xlim([alpha_space[0], alpha_space[-1]])\n",
    "    ax.set_xscale('log')\n",
    "    plt.show()"
   ]
  },
  {
   "cell_type": "code",
   "execution_count": 247,
   "metadata": {},
   "outputs": [
    {
     "data": {
      "image/png": "[encoded data removed]",
      "text/plain": [
       "<Figure size 432x288 with 1 Axes>"
      ]
     },
     "metadata": {
      "needs_background": "light"
     },
     "output_type": "display_data"
    }
   ],
   "source": [
    "# Compute scores over range of alphas\n",
    "for alpha in alpha_space:\n",
    "\n",
    "    # Specify the alpha value to use: ridge.alpha\n",
    "    ridge.alpha = alpha\n",
    "    \n",
    "    # Perform 10-fold CV: ridge_cv_scores\n",
    "    ridge_cv_scores = cross_val_score(ridge,X,y,cv=10)\n",
    "    \n",
    "    # Append the mean of ridge_cv_scores to ridge_scores\n",
    "    ridge_scores.append(np.mean(ridge_cv_scores))\n",
    "    \n",
    "    # Append the std of ridge_cv_scores to ridge_scores_std\n",
    "    ridge_scores_std.append(np.std(ridge_cv_scores))\n",
    "\n",
    "# Display the plot\n",
    "display_plot(ridge_scores, ridge_scores_std)\n",
    "\n"
   ]
  },
  {
   "cell_type": "code",
   "execution_count": 251,
   "metadata": {},
   "outputs": [
    {
     "name": "stdout",
     "output_type": "stream",
     "text": [
      "Tuned Ridge Regression Parameters: {'alpha': 1.0}\n",
      "Best score is -0.2637238187847081\n"
     ]
    }
   ],
   "source": [
    "\n",
    "from sklearn.model_selection import GridSearchCV\n",
    "\n",
    "# Setup the hyperparameter grid\n",
    "alpha_space = np.logspace(-4, 0, 50)\n",
    "param_grid = {'alpha': alpha_space}\n",
    "\n",
    "\n",
    "\n",
    "# Instantiate the GridSearchCV object: logreg_cv\n",
    "ridg_cv = GridSearchCV(ridge,param_grid, cv=5)\n",
    "\n",
    "# Fit it to the data\n",
    "ridg_cv.fit(X,y)\n",
    "\n",
    "# Print the tuned parameters and score\n",
    "print(\"Tuned Ridge Regression Parameters: {}\".format(ridg_cv.best_params_)) \n",
    "print(\"Best score is {}\".format(ridg_cv.best_score_))\n"
   ]
  },
  {
   "cell_type": "markdown",
   "metadata": {},
   "source": [
    "\n",
    "\n",
    "\n",
    "\n"
   ]
  },
  {
   "cell_type": "code",
   "execution_count": 249,
   "metadata": {},
   "outputs": [],
   "source": [
    "las_coef = las.fit(X_train,y_train).coef_"
   ]
  },
  {
   "cell_type": "code",
   "execution_count": 250,
   "metadata": {},
   "outputs": [
    {
     "data": {
      "text/plain": [
       "Text(0, 0.5, 'coef')"
      ]
     },
     "execution_count": 250,
     "metadata": {},
     "output_type": "execute_result"
    },
    {
     "data": {
      "image/png": "[encoded data removed]",
      "text/plain": [
       "<Figure size 432x288 with 1 Axes>"
      ]
     },
     "metadata": {
      "needs_background": "light"
     },
     "output_type": "display_data"
    }
   ],
   "source": [
    "names = X_train.columns\n",
    "plt.plot(range(len(names)),las_coef)\n",
    "plt.xticks(range(len(names)),names,rotation=60)\n",
    "plt.ylabel(\"coef\")"
   ]
  },
  {
   "cell_type": "markdown",
   "metadata": {},
   "source": [
    "**We clearly see Holiday flag,fuel price and Month are the top 3 positive influencers on Weekly sales.**"
   ]
  },
  {
   "cell_type": "markdown",
   "metadata": {},
   "source": [
    "---------------------------------"
   ]
  },
  {
   "cell_type": "markdown",
   "metadata": {},
   "source": [
    "## <font color=green> **Insights** </font>\n",
    "\n",
    "### <font color= purple> **->From sorting and ploting we can see that Store 20 has the maximum sales.** </font>\n",
    "\n",
    "### <font color=purple> **-> We observe that store 14 has max standard deviation, We can also see mean weekly sales of store 14 is greater than mean weekly sales of all the stores by almost 93%, it is because we have multiple outliers for store 14 as seen in the boxplot.** </font>\n",
    "\n",
    "### <font color=purple> **->The median or 50% quantile sales of store35 is 849779.14 and the IQR is 201542.4649 hence the sales above 1305379.3875 are classified as outliers hence we notice top 5 sales is classified as outlier.** </font> <font color=purple> *We see that the outliers are mostly in the month of November and December hence store35 should be ready to meet the sudden increace in demand.* </font>\n",
    "\n",
    "### <font color=purple> **->Store 7 did the best in Q3 2012 with 13% growth from Q2 2012, followed by store 16,35,26,39,41,44,24,40 and 23 , other stores had negative growth rates.** </font> \n",
    "\n",
    "### <font color=purple> **->Clearly top 10 holiday sales which have higher sales than the mean sales in non-holiday season for all stores together is during THANKSGIVING.** </font>\n",
    "\n",
    "### <font color=purple> **->In 2010, Sales are better during end of the year, we see Dec tops the sales followed by Nov which is why 4th Quarter has better sales, store wise we see sales of  store 20 in Dec has the higest sales of the year.** </font>\n",
    "\n",
    "### <font color=purple> **->In 2011, Sales are better during end of the year, we see Dec tops the sales followed by Nov which is why 4th Quarter has better sales, store wise we see sales of  store 20 in Dec has the higest sales of the year.** </font>\n",
    "\n",
    "### <font color=purple> **->In 2012, Sales of Jun followed by Feb are on the top, store 4 followed by store 20 in Feb have topped the sales in 2012, overall Quarter 2 does better than other Quarters.** </font> <font color=red> **Something to consider is that we dont have sales of Nov and Dec in 2012 for analysis, if we had may be they would have topped sales again as in the case of previous two years.** </font>"
   ]
  },
  {
   "cell_type": "markdown",
   "metadata": {},
   "source": [
    "__________________________________________________"
   ]
  }
 ],
 "metadata": {
  "kernelspec": {
   "display_name": "Python 3",
   "language": "python",
   "name": "python3"
  },
  "language_info": {
   "codemirror_mode": {
    "name": "ipython",
    "version": 3
   },
   "file_extension": ".py",
   "mimetype": "text/x-python",
   "name": "python",
   "nbconvert_exporter": "python",
   "pygments_lexer": "ipython3",
   "version": "3.8.5"
  }
 },
 "nbformat": 4,
 "nbformat_minor": 4
}
